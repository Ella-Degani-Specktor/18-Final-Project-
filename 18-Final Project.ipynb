{
 "cells": [
  {
   "cell_type": "markdown",
   "id": "f2a708b5",
   "metadata": {
    "toc": true
   },
   "source": [
    "<h1>Table of Contents<span class=\"tocSkip\"></span></h1>\n",
    "<div class=\"toc\"><ul class=\"toc-item\"><li><span><a href=\"#Imports\" data-toc-modified-id=\"Imports-1\"><span class=\"toc-item-num\">1&nbsp;&nbsp;</span>Imports</a></span></li><li><span><a href=\"#Project-description\" data-toc-modified-id=\"Project-description-2\"><span class=\"toc-item-num\">2&nbsp;&nbsp;</span>Project description</a></span></li><li><span><a href=\"#Data\" data-toc-modified-id=\"Data-3\"><span class=\"toc-item-num\">3&nbsp;&nbsp;</span>Data</a></span><ul class=\"toc-item\"><li><span><a href=\"#Data-description\" data-toc-modified-id=\"Data-description-3.1\"><span class=\"toc-item-num\">3.1&nbsp;&nbsp;</span>Data description</a></span></li><li><span><a href=\"#CSV-file-read\" data-toc-modified-id=\"CSV-file-read-3.2\"><span class=\"toc-item-num\">3.2&nbsp;&nbsp;</span>CSV file read</a></span></li><li><span><a href=\"#General-info\" data-toc-modified-id=\"General-info-3.3\"><span class=\"toc-item-num\">3.3&nbsp;&nbsp;</span>General info</a></span><ul class=\"toc-item\"><li><span><a href=\"#Contract\" data-toc-modified-id=\"Contract-3.3.1\"><span class=\"toc-item-num\">3.3.1&nbsp;&nbsp;</span>Contract</a></span></li><li><span><a href=\"#Personal\" data-toc-modified-id=\"Personal-3.3.2\"><span class=\"toc-item-num\">3.3.2&nbsp;&nbsp;</span>Personal</a></span></li><li><span><a href=\"#Internet\" data-toc-modified-id=\"Internet-3.3.3\"><span class=\"toc-item-num\">3.3.3&nbsp;&nbsp;</span>Internet</a></span></li><li><span><a href=\"#Phone\" data-toc-modified-id=\"Phone-3.3.4\"><span class=\"toc-item-num\">3.3.4&nbsp;&nbsp;</span>Phone</a></span></li></ul></li><li><span><a href=\"#Preprocessing\" data-toc-modified-id=\"Preprocessing-3.4\"><span class=\"toc-item-num\">3.4&nbsp;&nbsp;</span>Preprocessing</a></span><ul class=\"toc-item\"><li><span><a href=\"#Merging\" data-toc-modified-id=\"Merging-3.4.1\"><span class=\"toc-item-num\">3.4.1&nbsp;&nbsp;</span>Merging</a></span></li><li><span><a href=\"#Lower-case-column-names\" data-toc-modified-id=\"Lower-case-column-names-3.4.2\"><span class=\"toc-item-num\">3.4.2&nbsp;&nbsp;</span>Lower case column names</a></span></li><li><span><a href=\"#Duplicates\" data-toc-modified-id=\"Duplicates-3.4.3\"><span class=\"toc-item-num\">3.4.3&nbsp;&nbsp;</span>Duplicates</a></span></li><li><span><a href=\"#Target\" data-toc-modified-id=\"Target-3.4.4\"><span class=\"toc-item-num\">3.4.4&nbsp;&nbsp;</span>Target</a></span></li><li><span><a href=\"#Missing-values\" data-toc-modified-id=\"Missing-values-3.4.5\"><span class=\"toc-item-num\">3.4.5&nbsp;&nbsp;</span>Missing values</a></span></li><li><span><a href=\"#Data-type-change\" data-toc-modified-id=\"Data-type-change-3.4.6\"><span class=\"toc-item-num\">3.4.6&nbsp;&nbsp;</span>Data type change</a></span><ul class=\"toc-item\"><li><span><a href=\"#Dates\" data-toc-modified-id=\"Dates-3.4.6.1\"><span class=\"toc-item-num\">3.4.6.1&nbsp;&nbsp;</span>Dates</a></span></li><li><span><a href=\"#Total_charges\" data-toc-modified-id=\"Total_charges-3.4.6.2\"><span class=\"toc-item-num\">3.4.6.2&nbsp;&nbsp;</span>Total_charges</a></span></li></ul></li><li><span><a href=\"#Encoding\" data-toc-modified-id=\"Encoding-3.4.7\"><span class=\"toc-item-num\">3.4.7&nbsp;&nbsp;</span>Encoding</a></span></li></ul></li><li><span><a href=\"#EDA\" data-toc-modified-id=\"EDA-3.5\"><span class=\"toc-item-num\">3.5&nbsp;&nbsp;</span>EDA</a></span><ul class=\"toc-item\"><li><span><a href=\"#Target\" data-toc-modified-id=\"Target-3.5.1\"><span class=\"toc-item-num\">3.5.1&nbsp;&nbsp;</span>Target</a></span></li><li><span><a href=\"#Features\" data-toc-modified-id=\"Features-3.5.2\"><span class=\"toc-item-num\">3.5.2&nbsp;&nbsp;</span>Features</a></span></li></ul></li></ul></li><li><span><a href=\"#Work-plan\" data-toc-modified-id=\"Work-plan-4\"><span class=\"toc-item-num\">4&nbsp;&nbsp;</span>Work plan</a></span></li><li><span><a href=\"#Modeling-preparation\" data-toc-modified-id=\"Modeling-preparation-5\"><span class=\"toc-item-num\">5&nbsp;&nbsp;</span>Modeling preparation</a></span><ul class=\"toc-item\"><li><span><a href=\"#Evaluation-Function\" data-toc-modified-id=\"Evaluation-Function-5.1\"><span class=\"toc-item-num\">5.1&nbsp;&nbsp;</span>Evaluation Function</a></span></li><li><span><a href=\"#Splitting\" data-toc-modified-id=\"Splitting-5.2\"><span class=\"toc-item-num\">5.2&nbsp;&nbsp;</span>Splitting</a></span></li><li><span><a href=\"#Standard-Scaling\" data-toc-modified-id=\"Standard-Scaling-5.3\"><span class=\"toc-item-num\">5.3&nbsp;&nbsp;</span>Standard Scaling</a></span></li></ul></li><li><span><a href=\"#Modeling\" data-toc-modified-id=\"Modeling-6\"><span class=\"toc-item-num\">6&nbsp;&nbsp;</span>Modeling</a></span><ul class=\"toc-item\"><li><span><a href=\"#Baseline-model\" data-toc-modified-id=\"Baseline-model-6.1\"><span class=\"toc-item-num\">6.1&nbsp;&nbsp;</span>Baseline model</a></span></li><li><span><a href=\"#Logistic-regression\" data-toc-modified-id=\"Logistic-regression-6.2\"><span class=\"toc-item-num\">6.2&nbsp;&nbsp;</span>Logistic regression</a></span><ul class=\"toc-item\"><li><span><a href=\"#Class-weight-correction\" data-toc-modified-id=\"Class-weight-correction-6.2.1\"><span class=\"toc-item-num\">6.2.1&nbsp;&nbsp;</span>Class weight correction</a></span></li><li><span><a href=\"#Upsampling\" data-toc-modified-id=\"Upsampling-6.2.2\"><span class=\"toc-item-num\">6.2.2&nbsp;&nbsp;</span>Upsampling</a></span></li></ul></li><li><span><a href=\"#Random-Forest\" data-toc-modified-id=\"Random-Forest-6.3\"><span class=\"toc-item-num\">6.3&nbsp;&nbsp;</span>Random Forest</a></span><ul class=\"toc-item\"><li><span><a href=\"#Tuning\" data-toc-modified-id=\"Tuning-6.3.1\"><span class=\"toc-item-num\">6.3.1&nbsp;&nbsp;</span>Tuning</a></span></li></ul></li><li><span><a href=\"#LGBM\" data-toc-modified-id=\"LGBM-6.4\"><span class=\"toc-item-num\">6.4&nbsp;&nbsp;</span>LGBM</a></span></li><li><span><a href=\"#CatBoost\" data-toc-modified-id=\"CatBoost-6.5\"><span class=\"toc-item-num\">6.5&nbsp;&nbsp;</span>CatBoost</a></span></li><li><span><a href=\"#Model-selection\" data-toc-modified-id=\"Model-selection-6.6\"><span class=\"toc-item-num\">6.6&nbsp;&nbsp;</span>Model selection</a></span></li></ul></li><li><span><a href=\"#Chosen-model--CatBoostClassifier\" data-toc-modified-id=\"Chosen-model--CatBoostClassifier-7\"><span class=\"toc-item-num\">7&nbsp;&nbsp;</span>Chosen model- CatBoostClassifier</a></span><ul class=\"toc-item\"><li><span><a href=\"#Sanity-check\" data-toc-modified-id=\"Sanity-check-7.1\"><span class=\"toc-item-num\">7.1&nbsp;&nbsp;</span>Sanity check</a></span></li></ul></li><li><span><a href=\"#Conclusion\" data-toc-modified-id=\"Conclusion-8\"><span class=\"toc-item-num\">8&nbsp;&nbsp;</span>Conclusion</a></span></li><li><span><a href=\"#Solution-report\" data-toc-modified-id=\"Solution-report-9\"><span class=\"toc-item-num\">9&nbsp;&nbsp;</span>Solution report</a></span></li></ul></div>"
   ]
  },
  {
   "cell_type": "markdown",
   "id": "e4fb0d10",
   "metadata": {},
   "source": [
    "# Imports"
   ]
  },
  {
   "cell_type": "code",
   "execution_count": 1,
   "id": "14aaeca6",
   "metadata": {},
   "outputs": [],
   "source": [
    "import numpy as np\n",
    "import pandas as pd\n",
    "import matplotlib.pyplot as plt\n",
    "import seaborn as sns\n",
    "import glob\n",
    "import os\n",
    "from functools import reduce\n",
    "import re\n",
    "\n",
    "from sklearn.utils import shuffle\n",
    "from sklearn.model_selection import train_test_split\n",
    "from sklearn.preprocessing import StandardScaler as ss\n",
    "import sklearn.metrics as metrics\n",
    "from sklearn.model_selection import GridSearchCV\n",
    "from sklearn.pipeline import Pipeline\n",
    "\n",
    "from sklearn.dummy import DummyClassifier\n",
    "from sklearn.linear_model import LogisticRegression\n",
    "from sklearn.ensemble import RandomForestClassifier\n",
    "from lightgbm import LGBMClassifier\n",
    "from catboost import CatBoostClassifier\n",
    "\n",
    "import sys\n",
    "import warnings\n",
    "if not sys.warnoptions:\n",
    "       warnings.simplefilter(\"ignore\")"
   ]
  },
  {
   "cell_type": "markdown",
   "id": "c9cf6ae4",
   "metadata": {},
   "source": [
    "# Project description"
   ]
  },
  {
   "cell_type": "markdown",
   "id": "811f3418",
   "metadata": {},
   "source": [
    "Telecom operator Interconnect would like to forecast their churn of clients. If it's discovered that a user is planning to leave, they'll be offered promotional codes and special plan options. Interconnect's marketing team has collected some of their clientele's personal data, including information about their plans and contracts.\n",
    "\n",
    "Interconnect mainly provides two types of services:\n",
    "1. Landline communication. The telephone can be connected to several lines simultaneously.\n",
    "2. Internet. The network can be set up via a telephone line (DSL, *digital subscriber line*) or through a fiber optic cable.\n",
    "\n",
    "Some other services the company provides include:\n",
    "- Internet security: antivirus software (*DeviceProtection*) and a malicious website blocker (*OnlineSecurity*)\n",
    "- A dedicated technical support line (*TechSupport*)\n",
    "- Cloud file storage and data backup (*OnlineBackup*)\n",
    "- TV streaming (*StreamingTV*) and a movie directory (*StreamingMovies*)\n",
    "\n",
    "Clients can choose either a monthly payment or sign a 1- or 2-year contract. They can use various payment methods and receive an electronic invoice after a transaction."
   ]
  },
  {
   "cell_type": "markdown",
   "id": "5e1cfa69",
   "metadata": {},
   "source": [
    "# Data\n",
    "## Data description"
   ]
  },
  {
   "cell_type": "markdown",
   "id": "5360f9a0",
   "metadata": {},
   "source": [
    "Data consists of files obtained from different sources:\n",
    "- `contract.csv` — contract information\n",
    "- `personal.csv` — client's personal data\n",
    "- `internet.csv` — Internet services information\n",
    "- `phone.csv` — telephone services information\n",
    "\n",
    "In each file, `customerID` contains a unique code assigned to each client.\n",
    "\n",
    "Target feature: `'EndDate'` column equals `'No'`.\n",
    "\n",
    "Contract information is valid as of February 1, 2020.\n",
    "\n",
    "Primary metric: AUC-ROC.\n",
    "\n",
    "Additional metric: Accuracy.\n",
    "\n",
    "Assessment criteria:\n",
    "- AUC-ROC < 0.75 — 0 SP\n",
    "- 0.75 ≤ AUC-ROC < 0.81 — 4 SP\n",
    "- 0.81 ≤ AUC-ROC < 0.85 — 4.5 SP\n",
    "- 0.85 ≤ AUC-ROC < 0.87 — 5 SP\n",
    "- 0.87 ≤ AUC-ROC < 0.88 — 5.5 SP\n",
    "- AUC-ROC ≥ 0.88 — 6 SP"
   ]
  },
  {
   "cell_type": "markdown",
   "id": "90b355f7",
   "metadata": {},
   "source": [
    "## CSV file read"
   ]
  },
  {
   "cell_type": "code",
   "execution_count": 2,
   "id": "9e6dae6c",
   "metadata": {},
   "outputs": [],
   "source": [
    "#Reading csv files using try-except to handle unexpected errors\n",
    "try:\n",
    "    dfs = glob.glob('/Users/EllaDS/Downloads/final_provider/*.csv*', recursive = True)\n",
    "except:\n",
    "    dfs = glob.glob('/datasets/final_provider/*.csv*', recursive = True)\n",
    "\n",
    "for i in range(len(dfs)):\n",
    "    name = f\"{os.path.basename(dfs[i]).replace('.csv', '')}\"\n",
    "    globals()[name] = pd.read_csv(dfs[i], sep=',')"
   ]
  },
  {
   "cell_type": "markdown",
   "id": "82069d99",
   "metadata": {},
   "source": [
    "## General info"
   ]
  },
  {
   "cell_type": "code",
   "execution_count": 3,
   "id": "96cc3fb1",
   "metadata": {},
   "outputs": [],
   "source": [
    "#Defining function to display general info\n",
    "def info(df):\n",
    "    display(df.head()) #Printing first five enteries in dataframe\n",
    "    display(df.info()) #General file examination (missing values and data types)\n",
    "    display(df.describe(include='all')) #Integrated display of columns\n",
    "    print('Duplicated: ', df.duplicated().sum()) #Checking for dupicates"
   ]
  },
  {
   "cell_type": "markdown",
   "id": "1b0b462e",
   "metadata": {},
   "source": [
    "### Contract"
   ]
  },
  {
   "cell_type": "code",
   "execution_count": 4,
   "id": "fedbc940",
   "metadata": {},
   "outputs": [
    {
     "data": {
      "text/html": [
       "<div>\n",
       "<style scoped>\n",
       "    .dataframe tbody tr th:only-of-type {\n",
       "        vertical-align: middle;\n",
       "    }\n",
       "\n",
       "    .dataframe tbody tr th {\n",
       "        vertical-align: top;\n",
       "    }\n",
       "\n",
       "    .dataframe thead th {\n",
       "        text-align: right;\n",
       "    }\n",
       "</style>\n",
       "<table border=\"1\" class=\"dataframe\">\n",
       "  <thead>\n",
       "    <tr style=\"text-align: right;\">\n",
       "      <th></th>\n",
       "      <th>customerID</th>\n",
       "      <th>BeginDate</th>\n",
       "      <th>EndDate</th>\n",
       "      <th>Type</th>\n",
       "      <th>PaperlessBilling</th>\n",
       "      <th>PaymentMethod</th>\n",
       "      <th>MonthlyCharges</th>\n",
       "      <th>TotalCharges</th>\n",
       "    </tr>\n",
       "  </thead>\n",
       "  <tbody>\n",
       "    <tr>\n",
       "      <th>0</th>\n",
       "      <td>7590-VHVEG</td>\n",
       "      <td>2020-01-01</td>\n",
       "      <td>No</td>\n",
       "      <td>Month-to-month</td>\n",
       "      <td>Yes</td>\n",
       "      <td>Electronic check</td>\n",
       "      <td>29.85</td>\n",
       "      <td>29.85</td>\n",
       "    </tr>\n",
       "    <tr>\n",
       "      <th>1</th>\n",
       "      <td>5575-GNVDE</td>\n",
       "      <td>2017-04-01</td>\n",
       "      <td>No</td>\n",
       "      <td>One year</td>\n",
       "      <td>No</td>\n",
       "      <td>Mailed check</td>\n",
       "      <td>56.95</td>\n",
       "      <td>1889.5</td>\n",
       "    </tr>\n",
       "    <tr>\n",
       "      <th>2</th>\n",
       "      <td>3668-QPYBK</td>\n",
       "      <td>2019-10-01</td>\n",
       "      <td>2019-12-01 00:00:00</td>\n",
       "      <td>Month-to-month</td>\n",
       "      <td>Yes</td>\n",
       "      <td>Mailed check</td>\n",
       "      <td>53.85</td>\n",
       "      <td>108.15</td>\n",
       "    </tr>\n",
       "    <tr>\n",
       "      <th>3</th>\n",
       "      <td>7795-CFOCW</td>\n",
       "      <td>2016-05-01</td>\n",
       "      <td>No</td>\n",
       "      <td>One year</td>\n",
       "      <td>No</td>\n",
       "      <td>Bank transfer (automatic)</td>\n",
       "      <td>42.30</td>\n",
       "      <td>1840.75</td>\n",
       "    </tr>\n",
       "    <tr>\n",
       "      <th>4</th>\n",
       "      <td>9237-HQITU</td>\n",
       "      <td>2019-09-01</td>\n",
       "      <td>2019-11-01 00:00:00</td>\n",
       "      <td>Month-to-month</td>\n",
       "      <td>Yes</td>\n",
       "      <td>Electronic check</td>\n",
       "      <td>70.70</td>\n",
       "      <td>151.65</td>\n",
       "    </tr>\n",
       "  </tbody>\n",
       "</table>\n",
       "</div>"
      ],
      "text/plain": [
       "   customerID   BeginDate              EndDate            Type  \\\n",
       "0  7590-VHVEG  2020-01-01                   No  Month-to-month   \n",
       "1  5575-GNVDE  2017-04-01                   No        One year   \n",
       "2  3668-QPYBK  2019-10-01  2019-12-01 00:00:00  Month-to-month   \n",
       "3  7795-CFOCW  2016-05-01                   No        One year   \n",
       "4  9237-HQITU  2019-09-01  2019-11-01 00:00:00  Month-to-month   \n",
       "\n",
       "  PaperlessBilling              PaymentMethod  MonthlyCharges TotalCharges  \n",
       "0              Yes           Electronic check           29.85        29.85  \n",
       "1               No               Mailed check           56.95       1889.5  \n",
       "2              Yes               Mailed check           53.85       108.15  \n",
       "3               No  Bank transfer (automatic)           42.30      1840.75  \n",
       "4              Yes           Electronic check           70.70       151.65  "
      ]
     },
     "metadata": {},
     "output_type": "display_data"
    },
    {
     "name": "stdout",
     "output_type": "stream",
     "text": [
      "<class 'pandas.core.frame.DataFrame'>\n",
      "RangeIndex: 7043 entries, 0 to 7042\n",
      "Data columns (total 8 columns):\n",
      " #   Column            Non-Null Count  Dtype  \n",
      "---  ------            --------------  -----  \n",
      " 0   customerID        7043 non-null   object \n",
      " 1   BeginDate         7043 non-null   object \n",
      " 2   EndDate           7043 non-null   object \n",
      " 3   Type              7043 non-null   object \n",
      " 4   PaperlessBilling  7043 non-null   object \n",
      " 5   PaymentMethod     7043 non-null   object \n",
      " 6   MonthlyCharges    7043 non-null   float64\n",
      " 7   TotalCharges      7043 non-null   object \n",
      "dtypes: float64(1), object(7)\n",
      "memory usage: 440.3+ KB\n"
     ]
    },
    {
     "data": {
      "text/plain": [
       "None"
      ]
     },
     "metadata": {},
     "output_type": "display_data"
    },
    {
     "data": {
      "text/html": [
       "<div>\n",
       "<style scoped>\n",
       "    .dataframe tbody tr th:only-of-type {\n",
       "        vertical-align: middle;\n",
       "    }\n",
       "\n",
       "    .dataframe tbody tr th {\n",
       "        vertical-align: top;\n",
       "    }\n",
       "\n",
       "    .dataframe thead th {\n",
       "        text-align: right;\n",
       "    }\n",
       "</style>\n",
       "<table border=\"1\" class=\"dataframe\">\n",
       "  <thead>\n",
       "    <tr style=\"text-align: right;\">\n",
       "      <th></th>\n",
       "      <th>customerID</th>\n",
       "      <th>BeginDate</th>\n",
       "      <th>EndDate</th>\n",
       "      <th>Type</th>\n",
       "      <th>PaperlessBilling</th>\n",
       "      <th>PaymentMethod</th>\n",
       "      <th>MonthlyCharges</th>\n",
       "      <th>TotalCharges</th>\n",
       "    </tr>\n",
       "  </thead>\n",
       "  <tbody>\n",
       "    <tr>\n",
       "      <th>count</th>\n",
       "      <td>7043</td>\n",
       "      <td>7043</td>\n",
       "      <td>7043</td>\n",
       "      <td>7043</td>\n",
       "      <td>7043</td>\n",
       "      <td>7043</td>\n",
       "      <td>7043.000000</td>\n",
       "      <td>7043</td>\n",
       "    </tr>\n",
       "    <tr>\n",
       "      <th>unique</th>\n",
       "      <td>7043</td>\n",
       "      <td>77</td>\n",
       "      <td>5</td>\n",
       "      <td>3</td>\n",
       "      <td>2</td>\n",
       "      <td>4</td>\n",
       "      <td>NaN</td>\n",
       "      <td>6531</td>\n",
       "    </tr>\n",
       "    <tr>\n",
       "      <th>top</th>\n",
       "      <td>8280-MQRQN</td>\n",
       "      <td>2014-02-01</td>\n",
       "      <td>No</td>\n",
       "      <td>Month-to-month</td>\n",
       "      <td>Yes</td>\n",
       "      <td>Electronic check</td>\n",
       "      <td>NaN</td>\n",
       "      <td></td>\n",
       "    </tr>\n",
       "    <tr>\n",
       "      <th>freq</th>\n",
       "      <td>1</td>\n",
       "      <td>366</td>\n",
       "      <td>5174</td>\n",
       "      <td>3875</td>\n",
       "      <td>4171</td>\n",
       "      <td>2365</td>\n",
       "      <td>NaN</td>\n",
       "      <td>11</td>\n",
       "    </tr>\n",
       "    <tr>\n",
       "      <th>mean</th>\n",
       "      <td>NaN</td>\n",
       "      <td>NaN</td>\n",
       "      <td>NaN</td>\n",
       "      <td>NaN</td>\n",
       "      <td>NaN</td>\n",
       "      <td>NaN</td>\n",
       "      <td>64.761692</td>\n",
       "      <td>NaN</td>\n",
       "    </tr>\n",
       "    <tr>\n",
       "      <th>std</th>\n",
       "      <td>NaN</td>\n",
       "      <td>NaN</td>\n",
       "      <td>NaN</td>\n",
       "      <td>NaN</td>\n",
       "      <td>NaN</td>\n",
       "      <td>NaN</td>\n",
       "      <td>30.090047</td>\n",
       "      <td>NaN</td>\n",
       "    </tr>\n",
       "    <tr>\n",
       "      <th>min</th>\n",
       "      <td>NaN</td>\n",
       "      <td>NaN</td>\n",
       "      <td>NaN</td>\n",
       "      <td>NaN</td>\n",
       "      <td>NaN</td>\n",
       "      <td>NaN</td>\n",
       "      <td>18.250000</td>\n",
       "      <td>NaN</td>\n",
       "    </tr>\n",
       "    <tr>\n",
       "      <th>25%</th>\n",
       "      <td>NaN</td>\n",
       "      <td>NaN</td>\n",
       "      <td>NaN</td>\n",
       "      <td>NaN</td>\n",
       "      <td>NaN</td>\n",
       "      <td>NaN</td>\n",
       "      <td>35.500000</td>\n",
       "      <td>NaN</td>\n",
       "    </tr>\n",
       "    <tr>\n",
       "      <th>50%</th>\n",
       "      <td>NaN</td>\n",
       "      <td>NaN</td>\n",
       "      <td>NaN</td>\n",
       "      <td>NaN</td>\n",
       "      <td>NaN</td>\n",
       "      <td>NaN</td>\n",
       "      <td>70.350000</td>\n",
       "      <td>NaN</td>\n",
       "    </tr>\n",
       "    <tr>\n",
       "      <th>75%</th>\n",
       "      <td>NaN</td>\n",
       "      <td>NaN</td>\n",
       "      <td>NaN</td>\n",
       "      <td>NaN</td>\n",
       "      <td>NaN</td>\n",
       "      <td>NaN</td>\n",
       "      <td>89.850000</td>\n",
       "      <td>NaN</td>\n",
       "    </tr>\n",
       "    <tr>\n",
       "      <th>max</th>\n",
       "      <td>NaN</td>\n",
       "      <td>NaN</td>\n",
       "      <td>NaN</td>\n",
       "      <td>NaN</td>\n",
       "      <td>NaN</td>\n",
       "      <td>NaN</td>\n",
       "      <td>118.750000</td>\n",
       "      <td>NaN</td>\n",
       "    </tr>\n",
       "  </tbody>\n",
       "</table>\n",
       "</div>"
      ],
      "text/plain": [
       "        customerID   BeginDate EndDate            Type PaperlessBilling  \\\n",
       "count         7043        7043    7043            7043             7043   \n",
       "unique        7043          77       5               3                2   \n",
       "top     8280-MQRQN  2014-02-01      No  Month-to-month              Yes   \n",
       "freq             1         366    5174            3875             4171   \n",
       "mean           NaN         NaN     NaN             NaN              NaN   \n",
       "std            NaN         NaN     NaN             NaN              NaN   \n",
       "min            NaN         NaN     NaN             NaN              NaN   \n",
       "25%            NaN         NaN     NaN             NaN              NaN   \n",
       "50%            NaN         NaN     NaN             NaN              NaN   \n",
       "75%            NaN         NaN     NaN             NaN              NaN   \n",
       "max            NaN         NaN     NaN             NaN              NaN   \n",
       "\n",
       "           PaymentMethod  MonthlyCharges TotalCharges  \n",
       "count               7043     7043.000000         7043  \n",
       "unique                 4             NaN         6531  \n",
       "top     Electronic check             NaN               \n",
       "freq                2365             NaN           11  \n",
       "mean                 NaN       64.761692          NaN  \n",
       "std                  NaN       30.090047          NaN  \n",
       "min                  NaN       18.250000          NaN  \n",
       "25%                  NaN       35.500000          NaN  \n",
       "50%                  NaN       70.350000          NaN  \n",
       "75%                  NaN       89.850000          NaN  \n",
       "max                  NaN      118.750000          NaN  "
      ]
     },
     "metadata": {},
     "output_type": "display_data"
    },
    {
     "name": "stdout",
     "output_type": "stream",
     "text": [
      "Duplicated:  0\n"
     ]
    }
   ],
   "source": [
    "info(contract)"
   ]
  },
  {
   "cell_type": "markdown",
   "id": "a778c62d",
   "metadata": {},
   "source": [
    "- Dataset includes 7043 entries and 8 columns.\n",
    "- No missing values.\n",
    "- No duplicates.\n",
    "- Target is `EndDate`, will be changed to binary (numeric).\n",
    "- Binary variables will be changed to numeric.\n",
    "- Column names will be changed to lower case.\n",
    "- `TotalCharges` will be changed to float.\n",
    "- `EndDate` and `BeginDate` will be changed to datetime, and duration will be calculate (if no `EndDate`, 1st of February 2020 will be used)."
   ]
  },
  {
   "cell_type": "markdown",
   "id": "c7bc390b",
   "metadata": {},
   "source": [
    "### Personal"
   ]
  },
  {
   "cell_type": "code",
   "execution_count": 5,
   "id": "b6c213f1",
   "metadata": {},
   "outputs": [
    {
     "data": {
      "text/html": [
       "<div>\n",
       "<style scoped>\n",
       "    .dataframe tbody tr th:only-of-type {\n",
       "        vertical-align: middle;\n",
       "    }\n",
       "\n",
       "    .dataframe tbody tr th {\n",
       "        vertical-align: top;\n",
       "    }\n",
       "\n",
       "    .dataframe thead th {\n",
       "        text-align: right;\n",
       "    }\n",
       "</style>\n",
       "<table border=\"1\" class=\"dataframe\">\n",
       "  <thead>\n",
       "    <tr style=\"text-align: right;\">\n",
       "      <th></th>\n",
       "      <th>customerID</th>\n",
       "      <th>gender</th>\n",
       "      <th>SeniorCitizen</th>\n",
       "      <th>Partner</th>\n",
       "      <th>Dependents</th>\n",
       "    </tr>\n",
       "  </thead>\n",
       "  <tbody>\n",
       "    <tr>\n",
       "      <th>0</th>\n",
       "      <td>7590-VHVEG</td>\n",
       "      <td>Female</td>\n",
       "      <td>0</td>\n",
       "      <td>Yes</td>\n",
       "      <td>No</td>\n",
       "    </tr>\n",
       "    <tr>\n",
       "      <th>1</th>\n",
       "      <td>5575-GNVDE</td>\n",
       "      <td>Male</td>\n",
       "      <td>0</td>\n",
       "      <td>No</td>\n",
       "      <td>No</td>\n",
       "    </tr>\n",
       "    <tr>\n",
       "      <th>2</th>\n",
       "      <td>3668-QPYBK</td>\n",
       "      <td>Male</td>\n",
       "      <td>0</td>\n",
       "      <td>No</td>\n",
       "      <td>No</td>\n",
       "    </tr>\n",
       "    <tr>\n",
       "      <th>3</th>\n",
       "      <td>7795-CFOCW</td>\n",
       "      <td>Male</td>\n",
       "      <td>0</td>\n",
       "      <td>No</td>\n",
       "      <td>No</td>\n",
       "    </tr>\n",
       "    <tr>\n",
       "      <th>4</th>\n",
       "      <td>9237-HQITU</td>\n",
       "      <td>Female</td>\n",
       "      <td>0</td>\n",
       "      <td>No</td>\n",
       "      <td>No</td>\n",
       "    </tr>\n",
       "  </tbody>\n",
       "</table>\n",
       "</div>"
      ],
      "text/plain": [
       "   customerID  gender  SeniorCitizen Partner Dependents\n",
       "0  7590-VHVEG  Female              0     Yes         No\n",
       "1  5575-GNVDE    Male              0      No         No\n",
       "2  3668-QPYBK    Male              0      No         No\n",
       "3  7795-CFOCW    Male              0      No         No\n",
       "4  9237-HQITU  Female              0      No         No"
      ]
     },
     "metadata": {},
     "output_type": "display_data"
    },
    {
     "name": "stdout",
     "output_type": "stream",
     "text": [
      "<class 'pandas.core.frame.DataFrame'>\n",
      "RangeIndex: 7043 entries, 0 to 7042\n",
      "Data columns (total 5 columns):\n",
      " #   Column         Non-Null Count  Dtype \n",
      "---  ------         --------------  ----- \n",
      " 0   customerID     7043 non-null   object\n",
      " 1   gender         7043 non-null   object\n",
      " 2   SeniorCitizen  7043 non-null   int64 \n",
      " 3   Partner        7043 non-null   object\n",
      " 4   Dependents     7043 non-null   object\n",
      "dtypes: int64(1), object(4)\n",
      "memory usage: 275.2+ KB\n"
     ]
    },
    {
     "data": {
      "text/plain": [
       "None"
      ]
     },
     "metadata": {},
     "output_type": "display_data"
    },
    {
     "data": {
      "text/html": [
       "<div>\n",
       "<style scoped>\n",
       "    .dataframe tbody tr th:only-of-type {\n",
       "        vertical-align: middle;\n",
       "    }\n",
       "\n",
       "    .dataframe tbody tr th {\n",
       "        vertical-align: top;\n",
       "    }\n",
       "\n",
       "    .dataframe thead th {\n",
       "        text-align: right;\n",
       "    }\n",
       "</style>\n",
       "<table border=\"1\" class=\"dataframe\">\n",
       "  <thead>\n",
       "    <tr style=\"text-align: right;\">\n",
       "      <th></th>\n",
       "      <th>customerID</th>\n",
       "      <th>gender</th>\n",
       "      <th>SeniorCitizen</th>\n",
       "      <th>Partner</th>\n",
       "      <th>Dependents</th>\n",
       "    </tr>\n",
       "  </thead>\n",
       "  <tbody>\n",
       "    <tr>\n",
       "      <th>count</th>\n",
       "      <td>7043</td>\n",
       "      <td>7043</td>\n",
       "      <td>7043.000000</td>\n",
       "      <td>7043</td>\n",
       "      <td>7043</td>\n",
       "    </tr>\n",
       "    <tr>\n",
       "      <th>unique</th>\n",
       "      <td>7043</td>\n",
       "      <td>2</td>\n",
       "      <td>NaN</td>\n",
       "      <td>2</td>\n",
       "      <td>2</td>\n",
       "    </tr>\n",
       "    <tr>\n",
       "      <th>top</th>\n",
       "      <td>8280-MQRQN</td>\n",
       "      <td>Male</td>\n",
       "      <td>NaN</td>\n",
       "      <td>No</td>\n",
       "      <td>No</td>\n",
       "    </tr>\n",
       "    <tr>\n",
       "      <th>freq</th>\n",
       "      <td>1</td>\n",
       "      <td>3555</td>\n",
       "      <td>NaN</td>\n",
       "      <td>3641</td>\n",
       "      <td>4933</td>\n",
       "    </tr>\n",
       "    <tr>\n",
       "      <th>mean</th>\n",
       "      <td>NaN</td>\n",
       "      <td>NaN</td>\n",
       "      <td>0.162147</td>\n",
       "      <td>NaN</td>\n",
       "      <td>NaN</td>\n",
       "    </tr>\n",
       "    <tr>\n",
       "      <th>std</th>\n",
       "      <td>NaN</td>\n",
       "      <td>NaN</td>\n",
       "      <td>0.368612</td>\n",
       "      <td>NaN</td>\n",
       "      <td>NaN</td>\n",
       "    </tr>\n",
       "    <tr>\n",
       "      <th>min</th>\n",
       "      <td>NaN</td>\n",
       "      <td>NaN</td>\n",
       "      <td>0.000000</td>\n",
       "      <td>NaN</td>\n",
       "      <td>NaN</td>\n",
       "    </tr>\n",
       "    <tr>\n",
       "      <th>25%</th>\n",
       "      <td>NaN</td>\n",
       "      <td>NaN</td>\n",
       "      <td>0.000000</td>\n",
       "      <td>NaN</td>\n",
       "      <td>NaN</td>\n",
       "    </tr>\n",
       "    <tr>\n",
       "      <th>50%</th>\n",
       "      <td>NaN</td>\n",
       "      <td>NaN</td>\n",
       "      <td>0.000000</td>\n",
       "      <td>NaN</td>\n",
       "      <td>NaN</td>\n",
       "    </tr>\n",
       "    <tr>\n",
       "      <th>75%</th>\n",
       "      <td>NaN</td>\n",
       "      <td>NaN</td>\n",
       "      <td>0.000000</td>\n",
       "      <td>NaN</td>\n",
       "      <td>NaN</td>\n",
       "    </tr>\n",
       "    <tr>\n",
       "      <th>max</th>\n",
       "      <td>NaN</td>\n",
       "      <td>NaN</td>\n",
       "      <td>1.000000</td>\n",
       "      <td>NaN</td>\n",
       "      <td>NaN</td>\n",
       "    </tr>\n",
       "  </tbody>\n",
       "</table>\n",
       "</div>"
      ],
      "text/plain": [
       "        customerID gender  SeniorCitizen Partner Dependents\n",
       "count         7043   7043    7043.000000    7043       7043\n",
       "unique        7043      2            NaN       2          2\n",
       "top     8280-MQRQN   Male            NaN      No         No\n",
       "freq             1   3555            NaN    3641       4933\n",
       "mean           NaN    NaN       0.162147     NaN        NaN\n",
       "std            NaN    NaN       0.368612     NaN        NaN\n",
       "min            NaN    NaN       0.000000     NaN        NaN\n",
       "25%            NaN    NaN       0.000000     NaN        NaN\n",
       "50%            NaN    NaN       0.000000     NaN        NaN\n",
       "75%            NaN    NaN       0.000000     NaN        NaN\n",
       "max            NaN    NaN       1.000000     NaN        NaN"
      ]
     },
     "metadata": {},
     "output_type": "display_data"
    },
    {
     "name": "stdout",
     "output_type": "stream",
     "text": [
      "Duplicated:  0\n"
     ]
    }
   ],
   "source": [
    "info(personal)"
   ]
  },
  {
   "cell_type": "markdown",
   "id": "b891bc86",
   "metadata": {},
   "source": [
    "- Dataset includes 7043 entries and 5 columns.\n",
    "- No missing values.\n",
    "- No duplicates.\n",
    "- Binary variables will be changed to numeric.\n",
    "- Column names will be changed to lower case.\n",
    "- Most aren't `SeniorCitizen`s."
   ]
  },
  {
   "cell_type": "markdown",
   "id": "359a91bc",
   "metadata": {},
   "source": [
    "### Internet"
   ]
  },
  {
   "cell_type": "code",
   "execution_count": 6,
   "id": "ad9966d1",
   "metadata": {},
   "outputs": [
    {
     "data": {
      "text/html": [
       "<div>\n",
       "<style scoped>\n",
       "    .dataframe tbody tr th:only-of-type {\n",
       "        vertical-align: middle;\n",
       "    }\n",
       "\n",
       "    .dataframe tbody tr th {\n",
       "        vertical-align: top;\n",
       "    }\n",
       "\n",
       "    .dataframe thead th {\n",
       "        text-align: right;\n",
       "    }\n",
       "</style>\n",
       "<table border=\"1\" class=\"dataframe\">\n",
       "  <thead>\n",
       "    <tr style=\"text-align: right;\">\n",
       "      <th></th>\n",
       "      <th>customerID</th>\n",
       "      <th>InternetService</th>\n",
       "      <th>OnlineSecurity</th>\n",
       "      <th>OnlineBackup</th>\n",
       "      <th>DeviceProtection</th>\n",
       "      <th>TechSupport</th>\n",
       "      <th>StreamingTV</th>\n",
       "      <th>StreamingMovies</th>\n",
       "    </tr>\n",
       "  </thead>\n",
       "  <tbody>\n",
       "    <tr>\n",
       "      <th>0</th>\n",
       "      <td>7590-VHVEG</td>\n",
       "      <td>DSL</td>\n",
       "      <td>No</td>\n",
       "      <td>Yes</td>\n",
       "      <td>No</td>\n",
       "      <td>No</td>\n",
       "      <td>No</td>\n",
       "      <td>No</td>\n",
       "    </tr>\n",
       "    <tr>\n",
       "      <th>1</th>\n",
       "      <td>5575-GNVDE</td>\n",
       "      <td>DSL</td>\n",
       "      <td>Yes</td>\n",
       "      <td>No</td>\n",
       "      <td>Yes</td>\n",
       "      <td>No</td>\n",
       "      <td>No</td>\n",
       "      <td>No</td>\n",
       "    </tr>\n",
       "    <tr>\n",
       "      <th>2</th>\n",
       "      <td>3668-QPYBK</td>\n",
       "      <td>DSL</td>\n",
       "      <td>Yes</td>\n",
       "      <td>Yes</td>\n",
       "      <td>No</td>\n",
       "      <td>No</td>\n",
       "      <td>No</td>\n",
       "      <td>No</td>\n",
       "    </tr>\n",
       "    <tr>\n",
       "      <th>3</th>\n",
       "      <td>7795-CFOCW</td>\n",
       "      <td>DSL</td>\n",
       "      <td>Yes</td>\n",
       "      <td>No</td>\n",
       "      <td>Yes</td>\n",
       "      <td>Yes</td>\n",
       "      <td>No</td>\n",
       "      <td>No</td>\n",
       "    </tr>\n",
       "    <tr>\n",
       "      <th>4</th>\n",
       "      <td>9237-HQITU</td>\n",
       "      <td>Fiber optic</td>\n",
       "      <td>No</td>\n",
       "      <td>No</td>\n",
       "      <td>No</td>\n",
       "      <td>No</td>\n",
       "      <td>No</td>\n",
       "      <td>No</td>\n",
       "    </tr>\n",
       "  </tbody>\n",
       "</table>\n",
       "</div>"
      ],
      "text/plain": [
       "   customerID InternetService OnlineSecurity OnlineBackup DeviceProtection  \\\n",
       "0  7590-VHVEG             DSL             No          Yes               No   \n",
       "1  5575-GNVDE             DSL            Yes           No              Yes   \n",
       "2  3668-QPYBK             DSL            Yes          Yes               No   \n",
       "3  7795-CFOCW             DSL            Yes           No              Yes   \n",
       "4  9237-HQITU     Fiber optic             No           No               No   \n",
       "\n",
       "  TechSupport StreamingTV StreamingMovies  \n",
       "0          No          No              No  \n",
       "1          No          No              No  \n",
       "2          No          No              No  \n",
       "3         Yes          No              No  \n",
       "4          No          No              No  "
      ]
     },
     "metadata": {},
     "output_type": "display_data"
    },
    {
     "name": "stdout",
     "output_type": "stream",
     "text": [
      "<class 'pandas.core.frame.DataFrame'>\n",
      "RangeIndex: 5517 entries, 0 to 5516\n",
      "Data columns (total 8 columns):\n",
      " #   Column            Non-Null Count  Dtype \n",
      "---  ------            --------------  ----- \n",
      " 0   customerID        5517 non-null   object\n",
      " 1   InternetService   5517 non-null   object\n",
      " 2   OnlineSecurity    5517 non-null   object\n",
      " 3   OnlineBackup      5517 non-null   object\n",
      " 4   DeviceProtection  5517 non-null   object\n",
      " 5   TechSupport       5517 non-null   object\n",
      " 6   StreamingTV       5517 non-null   object\n",
      " 7   StreamingMovies   5517 non-null   object\n",
      "dtypes: object(8)\n",
      "memory usage: 344.9+ KB\n"
     ]
    },
    {
     "data": {
      "text/plain": [
       "None"
      ]
     },
     "metadata": {},
     "output_type": "display_data"
    },
    {
     "data": {
      "text/html": [
       "<div>\n",
       "<style scoped>\n",
       "    .dataframe tbody tr th:only-of-type {\n",
       "        vertical-align: middle;\n",
       "    }\n",
       "\n",
       "    .dataframe tbody tr th {\n",
       "        vertical-align: top;\n",
       "    }\n",
       "\n",
       "    .dataframe thead th {\n",
       "        text-align: right;\n",
       "    }\n",
       "</style>\n",
       "<table border=\"1\" class=\"dataframe\">\n",
       "  <thead>\n",
       "    <tr style=\"text-align: right;\">\n",
       "      <th></th>\n",
       "      <th>customerID</th>\n",
       "      <th>InternetService</th>\n",
       "      <th>OnlineSecurity</th>\n",
       "      <th>OnlineBackup</th>\n",
       "      <th>DeviceProtection</th>\n",
       "      <th>TechSupport</th>\n",
       "      <th>StreamingTV</th>\n",
       "      <th>StreamingMovies</th>\n",
       "    </tr>\n",
       "  </thead>\n",
       "  <tbody>\n",
       "    <tr>\n",
       "      <th>count</th>\n",
       "      <td>5517</td>\n",
       "      <td>5517</td>\n",
       "      <td>5517</td>\n",
       "      <td>5517</td>\n",
       "      <td>5517</td>\n",
       "      <td>5517</td>\n",
       "      <td>5517</td>\n",
       "      <td>5517</td>\n",
       "    </tr>\n",
       "    <tr>\n",
       "      <th>unique</th>\n",
       "      <td>5517</td>\n",
       "      <td>2</td>\n",
       "      <td>2</td>\n",
       "      <td>2</td>\n",
       "      <td>2</td>\n",
       "      <td>2</td>\n",
       "      <td>2</td>\n",
       "      <td>2</td>\n",
       "    </tr>\n",
       "    <tr>\n",
       "      <th>top</th>\n",
       "      <td>3943-KDREE</td>\n",
       "      <td>Fiber optic</td>\n",
       "      <td>No</td>\n",
       "      <td>No</td>\n",
       "      <td>No</td>\n",
       "      <td>No</td>\n",
       "      <td>No</td>\n",
       "      <td>No</td>\n",
       "    </tr>\n",
       "    <tr>\n",
       "      <th>freq</th>\n",
       "      <td>1</td>\n",
       "      <td>3096</td>\n",
       "      <td>3498</td>\n",
       "      <td>3088</td>\n",
       "      <td>3095</td>\n",
       "      <td>3473</td>\n",
       "      <td>2810</td>\n",
       "      <td>2785</td>\n",
       "    </tr>\n",
       "  </tbody>\n",
       "</table>\n",
       "</div>"
      ],
      "text/plain": [
       "        customerID InternetService OnlineSecurity OnlineBackup  \\\n",
       "count         5517            5517           5517         5517   \n",
       "unique        5517               2              2            2   \n",
       "top     3943-KDREE     Fiber optic             No           No   \n",
       "freq             1            3096           3498         3088   \n",
       "\n",
       "       DeviceProtection TechSupport StreamingTV StreamingMovies  \n",
       "count              5517        5517        5517            5517  \n",
       "unique                2           2           2               2  \n",
       "top                  No          No          No              No  \n",
       "freq               3095        3473        2810            2785  "
      ]
     },
     "metadata": {},
     "output_type": "display_data"
    },
    {
     "name": "stdout",
     "output_type": "stream",
     "text": [
      "Duplicated:  0\n"
     ]
    }
   ],
   "source": [
    "info(internet)"
   ]
  },
  {
   "cell_type": "markdown",
   "id": "6cd23d13",
   "metadata": {},
   "source": [
    "- Dataset includes 5517 entries and 8 columns.\n",
    "- No missing values.\n",
    "- No duplicates.\n",
    "- Binary variables will be changed to numeric.\n",
    "- Column names will be changed to lower case.\n",
    "- DFs will be merged and columns from this DF will miss 1526 values (21.66%) that will be treated."
   ]
  },
  {
   "cell_type": "markdown",
   "id": "e0668d3d",
   "metadata": {},
   "source": [
    "### Phone"
   ]
  },
  {
   "cell_type": "code",
   "execution_count": 7,
   "id": "28b592fe",
   "metadata": {},
   "outputs": [
    {
     "data": {
      "text/html": [
       "<div>\n",
       "<style scoped>\n",
       "    .dataframe tbody tr th:only-of-type {\n",
       "        vertical-align: middle;\n",
       "    }\n",
       "\n",
       "    .dataframe tbody tr th {\n",
       "        vertical-align: top;\n",
       "    }\n",
       "\n",
       "    .dataframe thead th {\n",
       "        text-align: right;\n",
       "    }\n",
       "</style>\n",
       "<table border=\"1\" class=\"dataframe\">\n",
       "  <thead>\n",
       "    <tr style=\"text-align: right;\">\n",
       "      <th></th>\n",
       "      <th>customerID</th>\n",
       "      <th>MultipleLines</th>\n",
       "    </tr>\n",
       "  </thead>\n",
       "  <tbody>\n",
       "    <tr>\n",
       "      <th>0</th>\n",
       "      <td>5575-GNVDE</td>\n",
       "      <td>No</td>\n",
       "    </tr>\n",
       "    <tr>\n",
       "      <th>1</th>\n",
       "      <td>3668-QPYBK</td>\n",
       "      <td>No</td>\n",
       "    </tr>\n",
       "    <tr>\n",
       "      <th>2</th>\n",
       "      <td>9237-HQITU</td>\n",
       "      <td>No</td>\n",
       "    </tr>\n",
       "    <tr>\n",
       "      <th>3</th>\n",
       "      <td>9305-CDSKC</td>\n",
       "      <td>Yes</td>\n",
       "    </tr>\n",
       "    <tr>\n",
       "      <th>4</th>\n",
       "      <td>1452-KIOVK</td>\n",
       "      <td>Yes</td>\n",
       "    </tr>\n",
       "  </tbody>\n",
       "</table>\n",
       "</div>"
      ],
      "text/plain": [
       "   customerID MultipleLines\n",
       "0  5575-GNVDE            No\n",
       "1  3668-QPYBK            No\n",
       "2  9237-HQITU            No\n",
       "3  9305-CDSKC           Yes\n",
       "4  1452-KIOVK           Yes"
      ]
     },
     "metadata": {},
     "output_type": "display_data"
    },
    {
     "name": "stdout",
     "output_type": "stream",
     "text": [
      "<class 'pandas.core.frame.DataFrame'>\n",
      "RangeIndex: 6361 entries, 0 to 6360\n",
      "Data columns (total 2 columns):\n",
      " #   Column         Non-Null Count  Dtype \n",
      "---  ------         --------------  ----- \n",
      " 0   customerID     6361 non-null   object\n",
      " 1   MultipleLines  6361 non-null   object\n",
      "dtypes: object(2)\n",
      "memory usage: 99.5+ KB\n"
     ]
    },
    {
     "data": {
      "text/plain": [
       "None"
      ]
     },
     "metadata": {},
     "output_type": "display_data"
    },
    {
     "data": {
      "text/html": [
       "<div>\n",
       "<style scoped>\n",
       "    .dataframe tbody tr th:only-of-type {\n",
       "        vertical-align: middle;\n",
       "    }\n",
       "\n",
       "    .dataframe tbody tr th {\n",
       "        vertical-align: top;\n",
       "    }\n",
       "\n",
       "    .dataframe thead th {\n",
       "        text-align: right;\n",
       "    }\n",
       "</style>\n",
       "<table border=\"1\" class=\"dataframe\">\n",
       "  <thead>\n",
       "    <tr style=\"text-align: right;\">\n",
       "      <th></th>\n",
       "      <th>customerID</th>\n",
       "      <th>MultipleLines</th>\n",
       "    </tr>\n",
       "  </thead>\n",
       "  <tbody>\n",
       "    <tr>\n",
       "      <th>count</th>\n",
       "      <td>6361</td>\n",
       "      <td>6361</td>\n",
       "    </tr>\n",
       "    <tr>\n",
       "      <th>unique</th>\n",
       "      <td>6361</td>\n",
       "      <td>2</td>\n",
       "    </tr>\n",
       "    <tr>\n",
       "      <th>top</th>\n",
       "      <td>8280-MQRQN</td>\n",
       "      <td>No</td>\n",
       "    </tr>\n",
       "    <tr>\n",
       "      <th>freq</th>\n",
       "      <td>1</td>\n",
       "      <td>3390</td>\n",
       "    </tr>\n",
       "  </tbody>\n",
       "</table>\n",
       "</div>"
      ],
      "text/plain": [
       "        customerID MultipleLines\n",
       "count         6361          6361\n",
       "unique        6361             2\n",
       "top     8280-MQRQN            No\n",
       "freq             1          3390"
      ]
     },
     "metadata": {},
     "output_type": "display_data"
    },
    {
     "name": "stdout",
     "output_type": "stream",
     "text": [
      "Duplicated:  0\n"
     ]
    }
   ],
   "source": [
    "info(phone)"
   ]
  },
  {
   "cell_type": "markdown",
   "id": "fd1f9b74",
   "metadata": {},
   "source": [
    "- Dataset includes 6361 entries and 2 columns.\n",
    "- No missing values.\n",
    "- No duplicates.\n",
    "- Binary variable will be changed to numeric.\n",
    "- DFs will be merged and columns from this DF will miss 682 values (9.68%) that will be treated."
   ]
  },
  {
   "cell_type": "markdown",
   "id": "ec408736",
   "metadata": {},
   "source": [
    "## Preprocessing\n",
    "### Merging"
   ]
  },
  {
   "cell_type": "code",
   "execution_count": 8,
   "id": "d91902fc",
   "metadata": {},
   "outputs": [
    {
     "data": {
      "text/html": [
       "<div>\n",
       "<style scoped>\n",
       "    .dataframe tbody tr th:only-of-type {\n",
       "        vertical-align: middle;\n",
       "    }\n",
       "\n",
       "    .dataframe tbody tr th {\n",
       "        vertical-align: top;\n",
       "    }\n",
       "\n",
       "    .dataframe thead th {\n",
       "        text-align: right;\n",
       "    }\n",
       "</style>\n",
       "<table border=\"1\" class=\"dataframe\">\n",
       "  <thead>\n",
       "    <tr style=\"text-align: right;\">\n",
       "      <th></th>\n",
       "      <th>customerID</th>\n",
       "      <th>BeginDate</th>\n",
       "      <th>EndDate</th>\n",
       "      <th>Type</th>\n",
       "      <th>PaperlessBilling</th>\n",
       "      <th>PaymentMethod</th>\n",
       "      <th>MonthlyCharges</th>\n",
       "      <th>TotalCharges</th>\n",
       "      <th>gender</th>\n",
       "      <th>SeniorCitizen</th>\n",
       "      <th>Partner</th>\n",
       "      <th>Dependents</th>\n",
       "      <th>InternetService</th>\n",
       "      <th>OnlineSecurity</th>\n",
       "      <th>OnlineBackup</th>\n",
       "      <th>DeviceProtection</th>\n",
       "      <th>TechSupport</th>\n",
       "      <th>StreamingTV</th>\n",
       "      <th>StreamingMovies</th>\n",
       "      <th>MultipleLines</th>\n",
       "    </tr>\n",
       "  </thead>\n",
       "  <tbody>\n",
       "    <tr>\n",
       "      <th>0</th>\n",
       "      <td>7590-VHVEG</td>\n",
       "      <td>2020-01-01</td>\n",
       "      <td>No</td>\n",
       "      <td>Month-to-month</td>\n",
       "      <td>Yes</td>\n",
       "      <td>Electronic check</td>\n",
       "      <td>29.85</td>\n",
       "      <td>29.85</td>\n",
       "      <td>Female</td>\n",
       "      <td>0</td>\n",
       "      <td>Yes</td>\n",
       "      <td>No</td>\n",
       "      <td>DSL</td>\n",
       "      <td>No</td>\n",
       "      <td>Yes</td>\n",
       "      <td>No</td>\n",
       "      <td>No</td>\n",
       "      <td>No</td>\n",
       "      <td>No</td>\n",
       "      <td>NaN</td>\n",
       "    </tr>\n",
       "    <tr>\n",
       "      <th>1</th>\n",
       "      <td>5575-GNVDE</td>\n",
       "      <td>2017-04-01</td>\n",
       "      <td>No</td>\n",
       "      <td>One year</td>\n",
       "      <td>No</td>\n",
       "      <td>Mailed check</td>\n",
       "      <td>56.95</td>\n",
       "      <td>1889.5</td>\n",
       "      <td>Male</td>\n",
       "      <td>0</td>\n",
       "      <td>No</td>\n",
       "      <td>No</td>\n",
       "      <td>DSL</td>\n",
       "      <td>Yes</td>\n",
       "      <td>No</td>\n",
       "      <td>Yes</td>\n",
       "      <td>No</td>\n",
       "      <td>No</td>\n",
       "      <td>No</td>\n",
       "      <td>No</td>\n",
       "    </tr>\n",
       "    <tr>\n",
       "      <th>2</th>\n",
       "      <td>3668-QPYBK</td>\n",
       "      <td>2019-10-01</td>\n",
       "      <td>2019-12-01 00:00:00</td>\n",
       "      <td>Month-to-month</td>\n",
       "      <td>Yes</td>\n",
       "      <td>Mailed check</td>\n",
       "      <td>53.85</td>\n",
       "      <td>108.15</td>\n",
       "      <td>Male</td>\n",
       "      <td>0</td>\n",
       "      <td>No</td>\n",
       "      <td>No</td>\n",
       "      <td>DSL</td>\n",
       "      <td>Yes</td>\n",
       "      <td>Yes</td>\n",
       "      <td>No</td>\n",
       "      <td>No</td>\n",
       "      <td>No</td>\n",
       "      <td>No</td>\n",
       "      <td>No</td>\n",
       "    </tr>\n",
       "    <tr>\n",
       "      <th>3</th>\n",
       "      <td>7795-CFOCW</td>\n",
       "      <td>2016-05-01</td>\n",
       "      <td>No</td>\n",
       "      <td>One year</td>\n",
       "      <td>No</td>\n",
       "      <td>Bank transfer (automatic)</td>\n",
       "      <td>42.30</td>\n",
       "      <td>1840.75</td>\n",
       "      <td>Male</td>\n",
       "      <td>0</td>\n",
       "      <td>No</td>\n",
       "      <td>No</td>\n",
       "      <td>DSL</td>\n",
       "      <td>Yes</td>\n",
       "      <td>No</td>\n",
       "      <td>Yes</td>\n",
       "      <td>Yes</td>\n",
       "      <td>No</td>\n",
       "      <td>No</td>\n",
       "      <td>NaN</td>\n",
       "    </tr>\n",
       "    <tr>\n",
       "      <th>4</th>\n",
       "      <td>9237-HQITU</td>\n",
       "      <td>2019-09-01</td>\n",
       "      <td>2019-11-01 00:00:00</td>\n",
       "      <td>Month-to-month</td>\n",
       "      <td>Yes</td>\n",
       "      <td>Electronic check</td>\n",
       "      <td>70.70</td>\n",
       "      <td>151.65</td>\n",
       "      <td>Female</td>\n",
       "      <td>0</td>\n",
       "      <td>No</td>\n",
       "      <td>No</td>\n",
       "      <td>Fiber optic</td>\n",
       "      <td>No</td>\n",
       "      <td>No</td>\n",
       "      <td>No</td>\n",
       "      <td>No</td>\n",
       "      <td>No</td>\n",
       "      <td>No</td>\n",
       "      <td>No</td>\n",
       "    </tr>\n",
       "  </tbody>\n",
       "</table>\n",
       "</div>"
      ],
      "text/plain": [
       "   customerID   BeginDate              EndDate            Type  \\\n",
       "0  7590-VHVEG  2020-01-01                   No  Month-to-month   \n",
       "1  5575-GNVDE  2017-04-01                   No        One year   \n",
       "2  3668-QPYBK  2019-10-01  2019-12-01 00:00:00  Month-to-month   \n",
       "3  7795-CFOCW  2016-05-01                   No        One year   \n",
       "4  9237-HQITU  2019-09-01  2019-11-01 00:00:00  Month-to-month   \n",
       "\n",
       "  PaperlessBilling              PaymentMethod  MonthlyCharges TotalCharges  \\\n",
       "0              Yes           Electronic check           29.85        29.85   \n",
       "1               No               Mailed check           56.95       1889.5   \n",
       "2              Yes               Mailed check           53.85       108.15   \n",
       "3               No  Bank transfer (automatic)           42.30      1840.75   \n",
       "4              Yes           Electronic check           70.70       151.65   \n",
       "\n",
       "   gender  SeniorCitizen Partner Dependents InternetService OnlineSecurity  \\\n",
       "0  Female              0     Yes         No             DSL             No   \n",
       "1    Male              0      No         No             DSL            Yes   \n",
       "2    Male              0      No         No             DSL            Yes   \n",
       "3    Male              0      No         No             DSL            Yes   \n",
       "4  Female              0      No         No     Fiber optic             No   \n",
       "\n",
       "  OnlineBackup DeviceProtection TechSupport StreamingTV StreamingMovies  \\\n",
       "0          Yes               No          No          No              No   \n",
       "1           No              Yes          No          No              No   \n",
       "2          Yes               No          No          No              No   \n",
       "3           No              Yes         Yes          No              No   \n",
       "4           No               No          No          No              No   \n",
       "\n",
       "  MultipleLines  \n",
       "0           NaN  \n",
       "1            No  \n",
       "2            No  \n",
       "3           NaN  \n",
       "4            No  "
      ]
     },
     "execution_count": 8,
     "metadata": {},
     "output_type": "execute_result"
    }
   ],
   "source": [
    "#Merging all 4 data frames based on `customerID`\n",
    "dfs=[contract,personal,internet,phone]\n",
    "df_merged = reduce(lambda left,right: pd.merge(left,right,on=['customerID'],how='outer'), dfs)\n",
    "df_merged.head()"
   ]
  },
  {
   "cell_type": "markdown",
   "id": "a9508729",
   "metadata": {},
   "source": [
    "### Lower case column names"
   ]
  },
  {
   "cell_type": "code",
   "execution_count": 9,
   "id": "0fb063e3",
   "metadata": {},
   "outputs": [
    {
     "data": {
      "text/html": [
       "<div>\n",
       "<style scoped>\n",
       "    .dataframe tbody tr th:only-of-type {\n",
       "        vertical-align: middle;\n",
       "    }\n",
       "\n",
       "    .dataframe tbody tr th {\n",
       "        vertical-align: top;\n",
       "    }\n",
       "\n",
       "    .dataframe thead th {\n",
       "        text-align: right;\n",
       "    }\n",
       "</style>\n",
       "<table border=\"1\" class=\"dataframe\">\n",
       "  <thead>\n",
       "    <tr style=\"text-align: right;\">\n",
       "      <th></th>\n",
       "      <th>ustomer_i_d</th>\n",
       "      <th>begin_date</th>\n",
       "      <th>end_date</th>\n",
       "      <th>type</th>\n",
       "      <th>paperless_billing</th>\n",
       "      <th>payment_method</th>\n",
       "      <th>monthly_charges</th>\n",
       "      <th>total_charges</th>\n",
       "      <th>ender</th>\n",
       "      <th>senior_citizen</th>\n",
       "      <th>partner</th>\n",
       "      <th>dependents</th>\n",
       "      <th>internet_service</th>\n",
       "      <th>online_security</th>\n",
       "      <th>online_backup</th>\n",
       "      <th>device_protection</th>\n",
       "      <th>tech_support</th>\n",
       "      <th>streaming_t_v</th>\n",
       "      <th>streaming_movies</th>\n",
       "      <th>multiple_lines</th>\n",
       "    </tr>\n",
       "  </thead>\n",
       "  <tbody>\n",
       "  </tbody>\n",
       "</table>\n",
       "</div>"
      ],
      "text/plain": [
       "Empty DataFrame\n",
       "Columns: [ustomer_i_d, begin_date, end_date, type, paperless_billing, payment_method, monthly_charges, total_charges, ender, senior_citizen, partner, dependents, internet_service, online_security, online_backup, device_protection, tech_support, streaming_t_v, streaming_movies, multiple_lines]\n",
       "Index: []"
      ]
     },
     "execution_count": 9,
     "metadata": {},
     "output_type": "execute_result"
    }
   ],
   "source": [
    "columns = []\n",
    "for name in df_merged.columns.values:\n",
    "    name = re.sub('([A-Z])', r' \\1', name).lower().replace(' ', '_')[1:]\n",
    "    columns.append(name)\n",
    "\n",
    "df_merged.columns = columns\n",
    "df_merged.head(0)"
   ]
  },
  {
   "cell_type": "code",
   "execution_count": 10,
   "id": "516b9d0e",
   "metadata": {},
   "outputs": [],
   "source": [
    "df_merged = df_merged.rename(columns = {'ustomer_i_d':'customer_id', 'ender':'gender', 'streaming_t_v':'streaming_tv'})"
   ]
  },
  {
   "cell_type": "markdown",
   "id": "0a22b001",
   "metadata": {},
   "source": [
    "### Duplicates"
   ]
  },
  {
   "cell_type": "code",
   "execution_count": 11,
   "id": "ba4743b4",
   "metadata": {},
   "outputs": [
    {
     "data": {
      "text/plain": [
       "0"
      ]
     },
     "execution_count": 11,
     "metadata": {},
     "output_type": "execute_result"
    }
   ],
   "source": [
    "df_merged.duplicated().sum()"
   ]
  },
  {
   "cell_type": "markdown",
   "id": "add8d921",
   "metadata": {},
   "source": [
    "### Target"
   ]
  },
  {
   "cell_type": "code",
   "execution_count": 12,
   "id": "e2233d7b",
   "metadata": {},
   "outputs": [
    {
     "data": {
      "text/plain": [
       "0    5174\n",
       "1    1869\n",
       "Name: end_date, dtype: int64"
      ]
     },
     "execution_count": 12,
     "metadata": {},
     "output_type": "execute_result"
    }
   ],
   "source": [
    "#Creating binary numeric target column\n",
    "def label(end_date):\n",
    "    if end_date == 'No':\n",
    "        return 0\n",
    "    else:\n",
    "        return 1\n",
    "\n",
    "y = df_merged['end_date'].apply(label)\n",
    "y.value_counts()"
   ]
  },
  {
   "cell_type": "markdown",
   "id": "944118ed",
   "metadata": {},
   "source": [
    "### Missing values"
   ]
  },
  {
   "cell_type": "code",
   "execution_count": 13,
   "id": "de2c58d4",
   "metadata": {},
   "outputs": [
    {
     "data": {
      "text/plain": [
       "streaming_movies     21.666903\n",
       "streaming_tv         21.666903\n",
       "tech_support         21.666903\n",
       "device_protection    21.666903\n",
       "online_backup        21.666903\n",
       "online_security      21.666903\n",
       "internet_service     21.666903\n",
       "multiple_lines        9.683374\n",
       "begin_date            0.000000\n",
       "dependents            0.000000\n",
       "customer_id           0.000000\n",
       "senior_citizen        0.000000\n",
       "gender                0.000000\n",
       "total_charges         0.000000\n",
       "monthly_charges       0.000000\n",
       "payment_method        0.000000\n",
       "paperless_billing     0.000000\n",
       "type                  0.000000\n",
       "end_date              0.000000\n",
       "partner               0.000000\n",
       "dtype: float64"
      ]
     },
     "execution_count": 13,
     "metadata": {},
     "output_type": "execute_result"
    }
   ],
   "source": [
    "(df_merged.isnull().sum()/len(df_merged)*100).sort_values(ascending=False)"
   ]
  },
  {
   "cell_type": "markdown",
   "id": "5c066a6d",
   "metadata": {},
   "source": [
    "8 columns have missing values."
   ]
  },
  {
   "cell_type": "code",
   "execution_count": 14,
   "id": "7e083619",
   "metadata": {},
   "outputs": [],
   "source": [
    "#Filling missing values in the 7 columns with binary values (Yes/No) with 'No'\n",
    "col_with_missing_values = list(df_merged.columns[df_merged.isnull().any()])\n",
    "col_with_missing_values.remove('internet_service')\n",
    "df_merged[col_with_missing_values] = df_merged[col_with_missing_values].apply(lambda x: x.fillna('No'))"
   ]
  },
  {
   "cell_type": "code",
   "execution_count": 15,
   "id": "c68b617a",
   "metadata": {},
   "outputs": [],
   "source": [
    "#Filling non-binary `internet_service` missing values with 'unavailable'\n",
    "df_merged['internet_service'] = df_merged['internet_service'].fillna('unavailable')"
   ]
  },
  {
   "cell_type": "markdown",
   "id": "401e620b",
   "metadata": {},
   "source": [
    "### Data type change\n",
    "#### Dates"
   ]
  },
  {
   "cell_type": "code",
   "execution_count": 16,
   "id": "e05baee5",
   "metadata": {},
   "outputs": [],
   "source": [
    "#Replacing `No` value in `end_date` with date of data extraction: 2020-02-01\n",
    "df_merged.loc[df_merged['end_date'] == 'No', 'end_date'] = '2020-02-01'\n",
    "\n",
    "#Datetime\n",
    "df_merged[['end_date', 'begin_date']] = df_merged[['end_date', 'begin_date']].apply(pd.to_datetime)"
   ]
  },
  {
   "cell_type": "code",
   "execution_count": 17,
   "id": "4b464e25",
   "metadata": {},
   "outputs": [],
   "source": [
    "#Calculating number of days a client was subscribed until day of data extraction.\n",
    "df_merged['subs_days'] = (df_merged['end_date'] - df_merged['begin_date']).dt.days"
   ]
  },
  {
   "cell_type": "code",
   "execution_count": 18,
   "id": "f7223674",
   "metadata": {},
   "outputs": [
    {
     "data": {
      "text/plain": [
       "0    7032\n",
       "1      11\n",
       "Name: new_client, dtype: int64"
      ]
     },
     "execution_count": 18,
     "metadata": {},
     "output_type": "execute_result"
    }
   ],
   "source": [
    "#Defining function to recognize new clients\n",
    "def new_client(begin_date):\n",
    "    extraction_date = pd.to_datetime('2020-02-01')\n",
    "    if (extraction_date - begin_date).days/30 < 1:\n",
    "        return 1\n",
    "    else:\n",
    "        return 0\n",
    "    \n",
    "df_merged['new_client'] = df_merged['begin_date'].apply(new_client)\n",
    "df_merged['new_client'].value_counts()"
   ]
  },
  {
   "cell_type": "markdown",
   "id": "07a11415",
   "metadata": {},
   "source": [
    "#### Total_charges"
   ]
  },
  {
   "cell_type": "code",
   "execution_count": 19,
   "id": "0acfc702",
   "metadata": {},
   "outputs": [
    {
     "data": {
      "text/plain": [
       "total_charges        0.156183\n",
       "customer_id          0.000000\n",
       "internet_service     0.000000\n",
       "subs_days            0.000000\n",
       "multiple_lines       0.000000\n",
       "streaming_movies     0.000000\n",
       "streaming_tv         0.000000\n",
       "tech_support         0.000000\n",
       "device_protection    0.000000\n",
       "online_backup        0.000000\n",
       "online_security      0.000000\n",
       "dependents           0.000000\n",
       "begin_date           0.000000\n",
       "partner              0.000000\n",
       "senior_citizen       0.000000\n",
       "gender               0.000000\n",
       "monthly_charges      0.000000\n",
       "payment_method       0.000000\n",
       "paperless_billing    0.000000\n",
       "type                 0.000000\n",
       "end_date             0.000000\n",
       "new_client           0.000000\n",
       "dtype: float64"
      ]
     },
     "execution_count": 19,
     "metadata": {},
     "output_type": "execute_result"
    }
   ],
   "source": [
    "#`total_charges` is of object type, changing to numeric\n",
    "df_merged['total_charges']=pd.to_numeric(df_merged['total_charges'], errors = 'coerce')\n",
    "(df_merged.isnull().sum()/len(df_merged)*100).sort_values(ascending=False)"
   ]
  },
  {
   "cell_type": "code",
   "execution_count": 20,
   "id": "787ccef6",
   "metadata": {},
   "outputs": [
    {
     "data": {
      "text/html": [
       "<div>\n",
       "<style scoped>\n",
       "    .dataframe tbody tr th:only-of-type {\n",
       "        vertical-align: middle;\n",
       "    }\n",
       "\n",
       "    .dataframe tbody tr th {\n",
       "        vertical-align: top;\n",
       "    }\n",
       "\n",
       "    .dataframe thead th {\n",
       "        text-align: right;\n",
       "    }\n",
       "</style>\n",
       "<table border=\"1\" class=\"dataframe\">\n",
       "  <thead>\n",
       "    <tr style=\"text-align: right;\">\n",
       "      <th></th>\n",
       "      <th>customer_id</th>\n",
       "      <th>begin_date</th>\n",
       "      <th>end_date</th>\n",
       "      <th>type</th>\n",
       "      <th>paperless_billing</th>\n",
       "      <th>payment_method</th>\n",
       "      <th>monthly_charges</th>\n",
       "      <th>total_charges</th>\n",
       "      <th>gender</th>\n",
       "      <th>senior_citizen</th>\n",
       "      <th>...</th>\n",
       "      <th>internet_service</th>\n",
       "      <th>online_security</th>\n",
       "      <th>online_backup</th>\n",
       "      <th>device_protection</th>\n",
       "      <th>tech_support</th>\n",
       "      <th>streaming_tv</th>\n",
       "      <th>streaming_movies</th>\n",
       "      <th>multiple_lines</th>\n",
       "      <th>subs_days</th>\n",
       "      <th>new_client</th>\n",
       "    </tr>\n",
       "  </thead>\n",
       "  <tbody>\n",
       "    <tr>\n",
       "      <th>488</th>\n",
       "      <td>4472-LVYGI</td>\n",
       "      <td>2020-02-01</td>\n",
       "      <td>2020-02-01</td>\n",
       "      <td>Two year</td>\n",
       "      <td>Yes</td>\n",
       "      <td>Bank transfer (automatic)</td>\n",
       "      <td>52.55</td>\n",
       "      <td>NaN</td>\n",
       "      <td>Female</td>\n",
       "      <td>0</td>\n",
       "      <td>...</td>\n",
       "      <td>DSL</td>\n",
       "      <td>Yes</td>\n",
       "      <td>No</td>\n",
       "      <td>Yes</td>\n",
       "      <td>Yes</td>\n",
       "      <td>Yes</td>\n",
       "      <td>No</td>\n",
       "      <td>No</td>\n",
       "      <td>0</td>\n",
       "      <td>1</td>\n",
       "    </tr>\n",
       "    <tr>\n",
       "      <th>753</th>\n",
       "      <td>3115-CZMZD</td>\n",
       "      <td>2020-02-01</td>\n",
       "      <td>2020-02-01</td>\n",
       "      <td>Two year</td>\n",
       "      <td>No</td>\n",
       "      <td>Mailed check</td>\n",
       "      <td>20.25</td>\n",
       "      <td>NaN</td>\n",
       "      <td>Male</td>\n",
       "      <td>0</td>\n",
       "      <td>...</td>\n",
       "      <td>unavailable</td>\n",
       "      <td>No</td>\n",
       "      <td>No</td>\n",
       "      <td>No</td>\n",
       "      <td>No</td>\n",
       "      <td>No</td>\n",
       "      <td>No</td>\n",
       "      <td>No</td>\n",
       "      <td>0</td>\n",
       "      <td>1</td>\n",
       "    </tr>\n",
       "    <tr>\n",
       "      <th>936</th>\n",
       "      <td>5709-LVOEQ</td>\n",
       "      <td>2020-02-01</td>\n",
       "      <td>2020-02-01</td>\n",
       "      <td>Two year</td>\n",
       "      <td>No</td>\n",
       "      <td>Mailed check</td>\n",
       "      <td>80.85</td>\n",
       "      <td>NaN</td>\n",
       "      <td>Female</td>\n",
       "      <td>0</td>\n",
       "      <td>...</td>\n",
       "      <td>DSL</td>\n",
       "      <td>Yes</td>\n",
       "      <td>Yes</td>\n",
       "      <td>Yes</td>\n",
       "      <td>No</td>\n",
       "      <td>Yes</td>\n",
       "      <td>Yes</td>\n",
       "      <td>No</td>\n",
       "      <td>0</td>\n",
       "      <td>1</td>\n",
       "    </tr>\n",
       "    <tr>\n",
       "      <th>1082</th>\n",
       "      <td>4367-NUYAO</td>\n",
       "      <td>2020-02-01</td>\n",
       "      <td>2020-02-01</td>\n",
       "      <td>Two year</td>\n",
       "      <td>No</td>\n",
       "      <td>Mailed check</td>\n",
       "      <td>25.75</td>\n",
       "      <td>NaN</td>\n",
       "      <td>Male</td>\n",
       "      <td>0</td>\n",
       "      <td>...</td>\n",
       "      <td>unavailable</td>\n",
       "      <td>No</td>\n",
       "      <td>No</td>\n",
       "      <td>No</td>\n",
       "      <td>No</td>\n",
       "      <td>No</td>\n",
       "      <td>No</td>\n",
       "      <td>Yes</td>\n",
       "      <td>0</td>\n",
       "      <td>1</td>\n",
       "    </tr>\n",
       "    <tr>\n",
       "      <th>1340</th>\n",
       "      <td>1371-DWPAZ</td>\n",
       "      <td>2020-02-01</td>\n",
       "      <td>2020-02-01</td>\n",
       "      <td>Two year</td>\n",
       "      <td>No</td>\n",
       "      <td>Credit card (automatic)</td>\n",
       "      <td>56.05</td>\n",
       "      <td>NaN</td>\n",
       "      <td>Female</td>\n",
       "      <td>0</td>\n",
       "      <td>...</td>\n",
       "      <td>DSL</td>\n",
       "      <td>Yes</td>\n",
       "      <td>Yes</td>\n",
       "      <td>Yes</td>\n",
       "      <td>Yes</td>\n",
       "      <td>Yes</td>\n",
       "      <td>No</td>\n",
       "      <td>No</td>\n",
       "      <td>0</td>\n",
       "      <td>1</td>\n",
       "    </tr>\n",
       "    <tr>\n",
       "      <th>3331</th>\n",
       "      <td>7644-OMVMY</td>\n",
       "      <td>2020-02-01</td>\n",
       "      <td>2020-02-01</td>\n",
       "      <td>Two year</td>\n",
       "      <td>No</td>\n",
       "      <td>Mailed check</td>\n",
       "      <td>19.85</td>\n",
       "      <td>NaN</td>\n",
       "      <td>Male</td>\n",
       "      <td>0</td>\n",
       "      <td>...</td>\n",
       "      <td>unavailable</td>\n",
       "      <td>No</td>\n",
       "      <td>No</td>\n",
       "      <td>No</td>\n",
       "      <td>No</td>\n",
       "      <td>No</td>\n",
       "      <td>No</td>\n",
       "      <td>No</td>\n",
       "      <td>0</td>\n",
       "      <td>1</td>\n",
       "    </tr>\n",
       "    <tr>\n",
       "      <th>3826</th>\n",
       "      <td>3213-VVOLG</td>\n",
       "      <td>2020-02-01</td>\n",
       "      <td>2020-02-01</td>\n",
       "      <td>Two year</td>\n",
       "      <td>No</td>\n",
       "      <td>Mailed check</td>\n",
       "      <td>25.35</td>\n",
       "      <td>NaN</td>\n",
       "      <td>Male</td>\n",
       "      <td>0</td>\n",
       "      <td>...</td>\n",
       "      <td>unavailable</td>\n",
       "      <td>No</td>\n",
       "      <td>No</td>\n",
       "      <td>No</td>\n",
       "      <td>No</td>\n",
       "      <td>No</td>\n",
       "      <td>No</td>\n",
       "      <td>Yes</td>\n",
       "      <td>0</td>\n",
       "      <td>1</td>\n",
       "    </tr>\n",
       "    <tr>\n",
       "      <th>4380</th>\n",
       "      <td>2520-SGTTA</td>\n",
       "      <td>2020-02-01</td>\n",
       "      <td>2020-02-01</td>\n",
       "      <td>Two year</td>\n",
       "      <td>No</td>\n",
       "      <td>Mailed check</td>\n",
       "      <td>20.00</td>\n",
       "      <td>NaN</td>\n",
       "      <td>Female</td>\n",
       "      <td>0</td>\n",
       "      <td>...</td>\n",
       "      <td>unavailable</td>\n",
       "      <td>No</td>\n",
       "      <td>No</td>\n",
       "      <td>No</td>\n",
       "      <td>No</td>\n",
       "      <td>No</td>\n",
       "      <td>No</td>\n",
       "      <td>No</td>\n",
       "      <td>0</td>\n",
       "      <td>1</td>\n",
       "    </tr>\n",
       "    <tr>\n",
       "      <th>5218</th>\n",
       "      <td>2923-ARZLG</td>\n",
       "      <td>2020-02-01</td>\n",
       "      <td>2020-02-01</td>\n",
       "      <td>One year</td>\n",
       "      <td>Yes</td>\n",
       "      <td>Mailed check</td>\n",
       "      <td>19.70</td>\n",
       "      <td>NaN</td>\n",
       "      <td>Male</td>\n",
       "      <td>0</td>\n",
       "      <td>...</td>\n",
       "      <td>unavailable</td>\n",
       "      <td>No</td>\n",
       "      <td>No</td>\n",
       "      <td>No</td>\n",
       "      <td>No</td>\n",
       "      <td>No</td>\n",
       "      <td>No</td>\n",
       "      <td>No</td>\n",
       "      <td>0</td>\n",
       "      <td>1</td>\n",
       "    </tr>\n",
       "    <tr>\n",
       "      <th>6670</th>\n",
       "      <td>4075-WKNIU</td>\n",
       "      <td>2020-02-01</td>\n",
       "      <td>2020-02-01</td>\n",
       "      <td>Two year</td>\n",
       "      <td>No</td>\n",
       "      <td>Mailed check</td>\n",
       "      <td>73.35</td>\n",
       "      <td>NaN</td>\n",
       "      <td>Female</td>\n",
       "      <td>0</td>\n",
       "      <td>...</td>\n",
       "      <td>DSL</td>\n",
       "      <td>No</td>\n",
       "      <td>Yes</td>\n",
       "      <td>Yes</td>\n",
       "      <td>Yes</td>\n",
       "      <td>Yes</td>\n",
       "      <td>No</td>\n",
       "      <td>Yes</td>\n",
       "      <td>0</td>\n",
       "      <td>1</td>\n",
       "    </tr>\n",
       "    <tr>\n",
       "      <th>6754</th>\n",
       "      <td>2775-SEFEE</td>\n",
       "      <td>2020-02-01</td>\n",
       "      <td>2020-02-01</td>\n",
       "      <td>Two year</td>\n",
       "      <td>Yes</td>\n",
       "      <td>Bank transfer (automatic)</td>\n",
       "      <td>61.90</td>\n",
       "      <td>NaN</td>\n",
       "      <td>Male</td>\n",
       "      <td>0</td>\n",
       "      <td>...</td>\n",
       "      <td>DSL</td>\n",
       "      <td>Yes</td>\n",
       "      <td>Yes</td>\n",
       "      <td>No</td>\n",
       "      <td>Yes</td>\n",
       "      <td>No</td>\n",
       "      <td>No</td>\n",
       "      <td>Yes</td>\n",
       "      <td>0</td>\n",
       "      <td>1</td>\n",
       "    </tr>\n",
       "  </tbody>\n",
       "</table>\n",
       "<p>11 rows × 22 columns</p>\n",
       "</div>"
      ],
      "text/plain": [
       "     customer_id begin_date   end_date      type paperless_billing  \\\n",
       "488   4472-LVYGI 2020-02-01 2020-02-01  Two year               Yes   \n",
       "753   3115-CZMZD 2020-02-01 2020-02-01  Two year                No   \n",
       "936   5709-LVOEQ 2020-02-01 2020-02-01  Two year                No   \n",
       "1082  4367-NUYAO 2020-02-01 2020-02-01  Two year                No   \n",
       "1340  1371-DWPAZ 2020-02-01 2020-02-01  Two year                No   \n",
       "3331  7644-OMVMY 2020-02-01 2020-02-01  Two year                No   \n",
       "3826  3213-VVOLG 2020-02-01 2020-02-01  Two year                No   \n",
       "4380  2520-SGTTA 2020-02-01 2020-02-01  Two year                No   \n",
       "5218  2923-ARZLG 2020-02-01 2020-02-01  One year               Yes   \n",
       "6670  4075-WKNIU 2020-02-01 2020-02-01  Two year                No   \n",
       "6754  2775-SEFEE 2020-02-01 2020-02-01  Two year               Yes   \n",
       "\n",
       "                 payment_method  monthly_charges  total_charges  gender  \\\n",
       "488   Bank transfer (automatic)            52.55            NaN  Female   \n",
       "753                Mailed check            20.25            NaN    Male   \n",
       "936                Mailed check            80.85            NaN  Female   \n",
       "1082               Mailed check            25.75            NaN    Male   \n",
       "1340    Credit card (automatic)            56.05            NaN  Female   \n",
       "3331               Mailed check            19.85            NaN    Male   \n",
       "3826               Mailed check            25.35            NaN    Male   \n",
       "4380               Mailed check            20.00            NaN  Female   \n",
       "5218               Mailed check            19.70            NaN    Male   \n",
       "6670               Mailed check            73.35            NaN  Female   \n",
       "6754  Bank transfer (automatic)            61.90            NaN    Male   \n",
       "\n",
       "      senior_citizen  ... internet_service online_security online_backup  \\\n",
       "488                0  ...              DSL             Yes            No   \n",
       "753                0  ...      unavailable              No            No   \n",
       "936                0  ...              DSL             Yes           Yes   \n",
       "1082               0  ...      unavailable              No            No   \n",
       "1340               0  ...              DSL             Yes           Yes   \n",
       "3331               0  ...      unavailable              No            No   \n",
       "3826               0  ...      unavailable              No            No   \n",
       "4380               0  ...      unavailable              No            No   \n",
       "5218               0  ...      unavailable              No            No   \n",
       "6670               0  ...              DSL              No           Yes   \n",
       "6754               0  ...              DSL             Yes           Yes   \n",
       "\n",
       "     device_protection tech_support streaming_tv streaming_movies  \\\n",
       "488                Yes          Yes          Yes               No   \n",
       "753                 No           No           No               No   \n",
       "936                Yes           No          Yes              Yes   \n",
       "1082                No           No           No               No   \n",
       "1340               Yes          Yes          Yes               No   \n",
       "3331                No           No           No               No   \n",
       "3826                No           No           No               No   \n",
       "4380                No           No           No               No   \n",
       "5218                No           No           No               No   \n",
       "6670               Yes          Yes          Yes               No   \n",
       "6754                No          Yes           No               No   \n",
       "\n",
       "     multiple_lines subs_days new_client  \n",
       "488              No         0          1  \n",
       "753              No         0          1  \n",
       "936              No         0          1  \n",
       "1082            Yes         0          1  \n",
       "1340             No         0          1  \n",
       "3331             No         0          1  \n",
       "3826            Yes         0          1  \n",
       "4380             No         0          1  \n",
       "5218             No         0          1  \n",
       "6670            Yes         0          1  \n",
       "6754            Yes         0          1  \n",
       "\n",
       "[11 rows x 22 columns]"
      ]
     },
     "execution_count": 20,
     "metadata": {},
     "output_type": "execute_result"
    }
   ],
   "source": [
    "df_merged[df_merged['total_charges'].isnull()]"
   ]
  },
  {
   "cell_type": "markdown",
   "id": "4edaf2d7",
   "metadata": {},
   "source": [
    "11 clients subscribed at the same time the data was extracted."
   ]
  },
  {
   "cell_type": "code",
   "execution_count": 21,
   "id": "4d82cfb2",
   "metadata": {},
   "outputs": [],
   "source": [
    "#Filling missing `total_charges` with value of `monthly_charges`\n",
    "df_merged.loc[df_merged['total_charges'].isnull(),'total_charges'] = df_merged['monthly_charges']\n",
    "\n",
    "#Changing data type to float\n",
    "df_merged['total_charges'] = df_merged['total_charges'].astype('float')"
   ]
  },
  {
   "cell_type": "markdown",
   "id": "ba130f66",
   "metadata": {},
   "source": [
    "### Encoding"
   ]
  },
  {
   "cell_type": "code",
   "execution_count": 22,
   "id": "fc60e0bb",
   "metadata": {},
   "outputs": [
    {
     "data": {
      "text/plain": [
       "Month-to-month    3875\n",
       "Two year          1695\n",
       "One year          1473\n",
       "Name: type, dtype: int64"
      ]
     },
     "execution_count": 22,
     "metadata": {},
     "output_type": "execute_result"
    }
   ],
   "source": [
    "df_merged['type'].value_counts()"
   ]
  },
  {
   "cell_type": "code",
   "execution_count": 23,
   "id": "bbaf3143",
   "metadata": {},
   "outputs": [
    {
     "data": {
      "text/plain": [
       "Electronic check             2365\n",
       "Mailed check                 1612\n",
       "Bank transfer (automatic)    1544\n",
       "Credit card (automatic)      1522\n",
       "Name: payment_method, dtype: int64"
      ]
     },
     "execution_count": 23,
     "metadata": {},
     "output_type": "execute_result"
    }
   ],
   "source": [
    "df_merged['payment_method'].value_counts()"
   ]
  },
  {
   "cell_type": "code",
   "execution_count": 24,
   "id": "53c49e5d",
   "metadata": {},
   "outputs": [
    {
     "data": {
      "text/html": [
       "<div>\n",
       "<style scoped>\n",
       "    .dataframe tbody tr th:only-of-type {\n",
       "        vertical-align: middle;\n",
       "    }\n",
       "\n",
       "    .dataframe tbody tr th {\n",
       "        vertical-align: top;\n",
       "    }\n",
       "\n",
       "    .dataframe thead th {\n",
       "        text-align: right;\n",
       "    }\n",
       "</style>\n",
       "<table border=\"1\" class=\"dataframe\">\n",
       "  <thead>\n",
       "    <tr style=\"text-align: right;\">\n",
       "      <th></th>\n",
       "      <th>total_charges</th>\n",
       "      <th>senior_citizen</th>\n",
       "      <th>subs_days</th>\n",
       "      <th>new_client</th>\n",
       "      <th>type_One year</th>\n",
       "      <th>type_Two year</th>\n",
       "      <th>paperless_billing_Yes</th>\n",
       "      <th>payment_method_Credit card (automatic)</th>\n",
       "      <th>payment_method_Electronic check</th>\n",
       "      <th>payment_method_Mailed check</th>\n",
       "      <th>...</th>\n",
       "      <th>dependents_Yes</th>\n",
       "      <th>internet_service_Fiber optic</th>\n",
       "      <th>internet_service_unavailable</th>\n",
       "      <th>online_security_Yes</th>\n",
       "      <th>online_backup_Yes</th>\n",
       "      <th>device_protection_Yes</th>\n",
       "      <th>tech_support_Yes</th>\n",
       "      <th>streaming_tv_Yes</th>\n",
       "      <th>streaming_movies_Yes</th>\n",
       "      <th>multiple_lines_Yes</th>\n",
       "    </tr>\n",
       "  </thead>\n",
       "  <tbody>\n",
       "    <tr>\n",
       "      <th>0</th>\n",
       "      <td>29.85</td>\n",
       "      <td>0</td>\n",
       "      <td>31</td>\n",
       "      <td>0</td>\n",
       "      <td>0</td>\n",
       "      <td>0</td>\n",
       "      <td>1</td>\n",
       "      <td>0</td>\n",
       "      <td>1</td>\n",
       "      <td>0</td>\n",
       "      <td>...</td>\n",
       "      <td>0</td>\n",
       "      <td>0</td>\n",
       "      <td>0</td>\n",
       "      <td>0</td>\n",
       "      <td>1</td>\n",
       "      <td>0</td>\n",
       "      <td>0</td>\n",
       "      <td>0</td>\n",
       "      <td>0</td>\n",
       "      <td>0</td>\n",
       "    </tr>\n",
       "    <tr>\n",
       "      <th>1</th>\n",
       "      <td>1889.50</td>\n",
       "      <td>0</td>\n",
       "      <td>1036</td>\n",
       "      <td>0</td>\n",
       "      <td>1</td>\n",
       "      <td>0</td>\n",
       "      <td>0</td>\n",
       "      <td>0</td>\n",
       "      <td>0</td>\n",
       "      <td>1</td>\n",
       "      <td>...</td>\n",
       "      <td>0</td>\n",
       "      <td>0</td>\n",
       "      <td>0</td>\n",
       "      <td>1</td>\n",
       "      <td>0</td>\n",
       "      <td>1</td>\n",
       "      <td>0</td>\n",
       "      <td>0</td>\n",
       "      <td>0</td>\n",
       "      <td>0</td>\n",
       "    </tr>\n",
       "    <tr>\n",
       "      <th>2</th>\n",
       "      <td>108.15</td>\n",
       "      <td>0</td>\n",
       "      <td>61</td>\n",
       "      <td>0</td>\n",
       "      <td>0</td>\n",
       "      <td>0</td>\n",
       "      <td>1</td>\n",
       "      <td>0</td>\n",
       "      <td>0</td>\n",
       "      <td>1</td>\n",
       "      <td>...</td>\n",
       "      <td>0</td>\n",
       "      <td>0</td>\n",
       "      <td>0</td>\n",
       "      <td>1</td>\n",
       "      <td>1</td>\n",
       "      <td>0</td>\n",
       "      <td>0</td>\n",
       "      <td>0</td>\n",
       "      <td>0</td>\n",
       "      <td>0</td>\n",
       "    </tr>\n",
       "    <tr>\n",
       "      <th>3</th>\n",
       "      <td>1840.75</td>\n",
       "      <td>0</td>\n",
       "      <td>1371</td>\n",
       "      <td>0</td>\n",
       "      <td>1</td>\n",
       "      <td>0</td>\n",
       "      <td>0</td>\n",
       "      <td>0</td>\n",
       "      <td>0</td>\n",
       "      <td>0</td>\n",
       "      <td>...</td>\n",
       "      <td>0</td>\n",
       "      <td>0</td>\n",
       "      <td>0</td>\n",
       "      <td>1</td>\n",
       "      <td>0</td>\n",
       "      <td>1</td>\n",
       "      <td>1</td>\n",
       "      <td>0</td>\n",
       "      <td>0</td>\n",
       "      <td>0</td>\n",
       "    </tr>\n",
       "    <tr>\n",
       "      <th>4</th>\n",
       "      <td>151.65</td>\n",
       "      <td>0</td>\n",
       "      <td>61</td>\n",
       "      <td>0</td>\n",
       "      <td>0</td>\n",
       "      <td>0</td>\n",
       "      <td>1</td>\n",
       "      <td>0</td>\n",
       "      <td>1</td>\n",
       "      <td>0</td>\n",
       "      <td>...</td>\n",
       "      <td>0</td>\n",
       "      <td>1</td>\n",
       "      <td>0</td>\n",
       "      <td>0</td>\n",
       "      <td>0</td>\n",
       "      <td>0</td>\n",
       "      <td>0</td>\n",
       "      <td>0</td>\n",
       "      <td>0</td>\n",
       "      <td>0</td>\n",
       "    </tr>\n",
       "  </tbody>\n",
       "</table>\n",
       "<p>5 rows × 22 columns</p>\n",
       "</div>"
      ],
      "text/plain": [
       "   total_charges  senior_citizen  subs_days  new_client  type_One year  \\\n",
       "0          29.85               0         31           0              0   \n",
       "1        1889.50               0       1036           0              1   \n",
       "2         108.15               0         61           0              0   \n",
       "3        1840.75               0       1371           0              1   \n",
       "4         151.65               0         61           0              0   \n",
       "\n",
       "   type_Two year  paperless_billing_Yes  \\\n",
       "0              0                      1   \n",
       "1              0                      0   \n",
       "2              0                      1   \n",
       "3              0                      0   \n",
       "4              0                      1   \n",
       "\n",
       "   payment_method_Credit card (automatic)  payment_method_Electronic check  \\\n",
       "0                                       0                                1   \n",
       "1                                       0                                0   \n",
       "2                                       0                                0   \n",
       "3                                       0                                0   \n",
       "4                                       0                                1   \n",
       "\n",
       "   payment_method_Mailed check  ...  dependents_Yes  \\\n",
       "0                            0  ...               0   \n",
       "1                            1  ...               0   \n",
       "2                            1  ...               0   \n",
       "3                            0  ...               0   \n",
       "4                            0  ...               0   \n",
       "\n",
       "   internet_service_Fiber optic  internet_service_unavailable  \\\n",
       "0                             0                             0   \n",
       "1                             0                             0   \n",
       "2                             0                             0   \n",
       "3                             0                             0   \n",
       "4                             1                             0   \n",
       "\n",
       "   online_security_Yes  online_backup_Yes  device_protection_Yes  \\\n",
       "0                    0                  1                      0   \n",
       "1                    1                  0                      1   \n",
       "2                    1                  1                      0   \n",
       "3                    1                  0                      1   \n",
       "4                    0                  0                      0   \n",
       "\n",
       "   tech_support_Yes  streaming_tv_Yes  streaming_movies_Yes  \\\n",
       "0                 0                 0                     0   \n",
       "1                 0                 0                     0   \n",
       "2                 0                 0                     0   \n",
       "3                 1                 0                     0   \n",
       "4                 0                 0                     0   \n",
       "\n",
       "   multiple_lines_Yes  \n",
       "0                   0  \n",
       "1                   0  \n",
       "2                   0  \n",
       "3                   0  \n",
       "4                   0  \n",
       "\n",
       "[5 rows x 22 columns]"
      ]
     },
     "execution_count": 24,
     "metadata": {},
     "output_type": "execute_result"
    }
   ],
   "source": [
    "#No variables have high dimensionality, so now encoding them by OHE method and dropping non-informative columns\n",
    "df_final = df_merged.drop(['customer_id', 'begin_date', 'end_date'], axis=1)\n",
    "df_final['churned'] = y\n",
    "X_OHE = pd.get_dummies(df_final, drop_first=True)\n",
    "X_OHE.drop(['churned','monthly_charges'], axis=1, inplace=True)\n",
    "X_OHE.head()"
   ]
  },
  {
   "cell_type": "markdown",
   "id": "2adef988",
   "metadata": {},
   "source": [
    "## EDA\n",
    "### Target"
   ]
  },
  {
   "cell_type": "code",
   "execution_count": 25,
   "id": "2ae43fa9",
   "metadata": {},
   "outputs": [
    {
     "data": {
      "image/png": "[encoded data removed]",
      "text/plain": [
       "<Figure size 432x288 with 1 Axes>"
      ]
     },
     "metadata": {
      "needs_background": "light"
     },
     "output_type": "display_data"
    }
   ],
   "source": [
    "#Plotting target\n",
    "plt.figure(figsize=(6,4))\n",
    "plots = sns.countplot(df_final['churned'])\n",
    "\n",
    "for bar in plots.patches:\n",
    "    plots.annotate(format(bar.get_height(), '.0f'),\n",
    "                   (bar.get_x() + bar.get_width() / 2,\n",
    "                   bar.get_height()), ha='center', va='center', \n",
    "                   xytext=(0, 5),\n",
    "                   textcoords='offset points')\n",
    "\n",
    "    plt.title(\"Churning ratio\")\n",
    "plt.show();"
   ]
  },
  {
   "cell_type": "markdown",
   "id": "7d9312f5",
   "metadata": {},
   "source": [
    "Plot depicts imbalanced classes. The number of current clients is 2.76 times that of those who left.\n",
    "\n",
    "Imbalanced classifications pose a challenge when predicting as most ML classification models assume each class has an equal number of examples. This results in poor predictive performance, especially for the minority class. In this case the minority class is more important, thus the model is more sensitive to classification errors for the minority class than the majority class. \n",
    "\n",
    "Techniques to correct class imbalance will be applied."
   ]
  },
  {
   "cell_type": "code",
   "execution_count": 26,
   "id": "8616b7cc",
   "metadata": {},
   "outputs": [
    {
     "data": {
      "text/plain": [
       "26.536987079369588"
      ]
     },
     "execution_count": 26,
     "metadata": {},
     "output_type": "execute_result"
    }
   ],
   "source": [
    "#Calculating average churn rate of whole dataset\n",
    "df_final['churned'].mean()*100"
   ]
  },
  {
   "cell_type": "markdown",
   "id": "8d92fa55",
   "metadata": {},
   "source": [
    "On average, the probability of a client leaving the company is 26.53%."
   ]
  },
  {
   "cell_type": "markdown",
   "id": "78f4a15f",
   "metadata": {},
   "source": [
    "### Features"
   ]
  },
  {
   "cell_type": "code",
   "execution_count": 27,
   "id": "48d7c36c",
   "metadata": {},
   "outputs": [
    {
     "data": {
      "image/png": "[encoded data removed]",
      "text/plain": [
       "<Figure size 1440x1080 with 20 Axes>"
      ]
     },
     "metadata": {
      "needs_background": "light"
     },
     "output_type": "display_data"
    }
   ],
   "source": [
    "#Plotting distribution of all the feature variables with respect to the target variable. \n",
    "cols = list(df_final.drop(['churned'], axis=1).columns)\n",
    "\n",
    "fig, axes = plt.subplots(5, 4, figsize=(20,15))\n",
    "fig.suptitle(\"Distribution of churned and remaining clients per feature\", y=1)\n",
    "axes = axes.flatten()\n",
    "\n",
    "for col, ax in zip(cols, axes):\n",
    "    sns.histplot(df_final, hue=\"churned\", x=col, stat='density', ax=ax)\n",
    "    ax.set_title(col)\n",
    "\n",
    "fig.tight_layout()\n",
    "plt.show();"
   ]
  },
  {
   "cell_type": "markdown",
   "id": "285858b8",
   "metadata": {},
   "source": [
    "- `monthly_charges` and `TotalCharges` have right-skewed distributions. \n",
    "- No visible outliers.\n",
    "- Most clients leave within first 5 months of subscription.\n",
    "- Gender doesn't seem to influence churn much.\n",
    "- Clients are more likely to leave when they are subscribed to less added services and pay less per month, maybe due to always searching for cheaper deals.\n",
    "- Newer clients tend to leave more, possibly due to constant moving from one service provider to another.\n",
    "- Single and/or younger clients are usually those who are to unsubscribe, possibly due to not minding the hassle of chasing better bargains.\n",
    "- Clients with the month-to-month contract type probably like keeping all options open and therefore don't generally commit to long-term contracts.\n",
    "\n",
    "\n",
    "- Churned clients usually:\n",
    "  1. Have a 'Month-to-Month' contract `type`.\n",
    "  2. Receive `paperless_billing`.\n",
    "  3. Pay by 'Electronic check' `payment_method`.\n",
    "  4. Pay between 70-110 in `monthly_charges`.\n",
    "  5. Pay the lowest `total_charges`.\n",
    "  6. Aren't `senior_citizen`s.\n",
    "  7. Don't have a `partner`.\n",
    "  8. Don't have `dependents`.\n",
    "  9. Are connected to `internet_service` by 'Fiber optic'.\n",
    "  10. Aren't subscribed to the `online_security` service.\n",
    "  11. Aren't subscribed to the `online_backup` service.\n",
    "  12. Aren't subscribed to the `device_protection` service.\n",
    "  13. Didn't receive `tech_support` for the Internet service.\n",
    "  14. Aren't subscribed to the `streaming_tv` service.\n",
    "  15. Aren't subscribed to the `streaming_movies` service.\n",
    "  16. Don't have `multiple_lines`.\n",
    "  17. Are subscribed the less days.\n",
    "  18. Aren't `new_client`s."
   ]
  },
  {
   "cell_type": "markdown",
   "id": "42b19514",
   "metadata": {},
   "source": [
    "# Work plan\n",
    "\n",
    "Clarification questions:\n",
    "- Should missing values be included if under 10%?\n",
    "- `total_changes` column has some non-numeric values for 11 clients who subscribed at the same time the data was extracted, I filled them with `monthly_charges`. Is that OK, or should I have filled them with 0 or deleted them?\n",
    "- Should class imbalance be corrected?\n",
    "\n",
    "Steps completed above:\n",
    "1. Opening data files.\n",
    "2. Studying general information.\n",
    "3. Preprocessing including merging data frames, binary numeric target, lower case column names, missing values, data type changes, feature engineering and encoding of categorical features.\n",
    "4. Exploratory data analysis.\n",
    "\n",
    "Steps to be followed:\n",
    "1. Defining evaluation function.\n",
    "2. Splitting into sets.\n",
    "3. Standard scaling.\n",
    "4. Baseline model.\n",
    "5. Modeling.\n",
    "6. Model selection.\n",
    "7. Retaining.\n",
    "8. Testing.\n",
    "9. Sanity check.\n",
    "10. Final conclusion.\n",
    "11. Report."
   ]
  },
  {
   "cell_type": "markdown",
   "id": "87e464fd",
   "metadata": {},
   "source": [
    "# Modeling preparation\n",
    "## Evaluation Function"
   ]
  },
  {
   "cell_type": "code",
   "execution_count": 28,
   "id": "d92759a7",
   "metadata": {},
   "outputs": [],
   "source": [
    "#Defining evaluation function for all models in this project\n",
    "def evaluate_model(model, train_features, train_target, test_features, test_target):\n",
    "    \n",
    "    eval_stats = {}\n",
    "    \n",
    "    fig, ax = plt.subplots(figsize=(10, 6)) \n",
    "    \n",
    "    for type, features, target in (('train', train_features, train_target), ('test', test_features, test_target)):\n",
    "        eval_stats[type] = {}\n",
    "    \n",
    "        pred_target = model.predict(features)\n",
    "        pred_proba = model.predict_proba(features)[:, 1]\n",
    "        \n",
    "    \n",
    "        #ROC\n",
    "        fpr, tpr, roc_thresholds = metrics.roc_curve(target, pred_proba)\n",
    "        roc_auc = metrics.roc_auc_score(target, pred_proba)    \n",
    "        eval_stats[type]['ROC AUC'] = roc_auc\n",
    "\n",
    "        \n",
    "        if type == 'train':\n",
    "            color = 'blue'\n",
    "        else:\n",
    "            color = 'green'\n",
    "\n",
    "        #ROC\n",
    "        ax.plot(fpr, tpr, color=color, label=f'{type}, ROC AUC={roc_auc:.2f}')\n",
    "        #Setting crosses for some thresholds\n",
    "        for threshold in (0.2, 0.4, 0.5, 0.6, 0.8):\n",
    "            closest_value_idx = np.argmin(np.abs(roc_thresholds-threshold))\n",
    "            marker_color = 'orange' if threshold != 0.5 else 'red'            \n",
    "            ax.plot(fpr[closest_value_idx], tpr[closest_value_idx], color=marker_color, marker='X', markersize=7)\n",
    "        ax.plot([0, 1], [0, 1], color='grey', linestyle='--')\n",
    "        ax.set_xlim([-0.02, 1.02])    \n",
    "        ax.set_ylim([-0.02, 1.02])\n",
    "        ax.set_xlabel('FPR')\n",
    "        ax.set_ylabel('TPR')\n",
    "        ax.legend(loc='lower center')        \n",
    "        ax.set_title(f'ROC Curve')\n",
    "        \n",
    "        \n",
    "        eval_stats[type]['Accuracy'] = metrics.accuracy_score(target, pred_target)\n",
    "    \n",
    "    df_eval_stats = pd.DataFrame(eval_stats)\n",
    "    df_eval_stats = df_eval_stats.round(2)\n",
    "    df_eval_stats = df_eval_stats.reindex(index=('Accuracy', 'ROC AUC'))\n",
    "    \n",
    "    print(df_eval_stats)\n",
    "    \n",
    "    return df_eval_stats"
   ]
  },
  {
   "cell_type": "markdown",
   "id": "51e5a57c",
   "metadata": {},
   "source": [
    "## Splitting"
   ]
  },
  {
   "cell_type": "code",
   "execution_count": 29,
   "id": "b6e55321",
   "metadata": {},
   "outputs": [],
   "source": [
    "X_train, X_test, y_train, y_test = train_test_split(X_OHE, y, test_size = 0.2, stratify=y, random_state=12345)\n",
    "\n",
    "X_train, X_valid, y_train, y_valid = train_test_split(X_train, y_train, test_size = 0.2, random_state=12345, stratify=y_train)"
   ]
  },
  {
   "cell_type": "markdown",
   "id": "101cc86a",
   "metadata": {},
   "source": [
    "## Standard Scaling"
   ]
  },
  {
   "cell_type": "code",
   "execution_count": 30,
   "id": "26c422e4",
   "metadata": {},
   "outputs": [
    {
     "name": "stdout",
     "output_type": "stream",
     "text": [
      "Train set shape: (4507, 22)\n",
      "Train set shape: (1127, 22)\n",
      "Train set shape: (1409, 22)\n"
     ]
    }
   ],
   "source": [
    "#Scaling features which will convert DFs to numpy arrays, thus after transformation, converting back to DFs\n",
    "sc = ss()\n",
    "\n",
    "X_train = pd.DataFrame(data=sc.fit_transform(X_train),\n",
    "                        index=X_train.index,    \n",
    "                        columns=X_train.columns) \n",
    "\n",
    "X_valid = pd.DataFrame(data=sc.transform(X_valid),\n",
    "                        index=X_valid.index,    \n",
    "                        columns=X_valid.columns) \n",
    "\n",
    "X_test = pd.DataFrame(data=sc.transform(X_test),\n",
    "                        index=X_test.index,    \n",
    "                        columns=X_test.columns) \n",
    "\n",
    "print('Train set shape:', X_train.shape)\n",
    "print('Train set shape:', X_valid.shape)\n",
    "print('Train set shape:', X_test.shape)"
   ]
  },
  {
   "cell_type": "markdown",
   "id": "b1d0f48e",
   "metadata": {},
   "source": [
    "# Modeling\n",
    "## Baseline model"
   ]
  },
  {
   "cell_type": "code",
   "execution_count": 31,
   "id": "eebb9954",
   "metadata": {},
   "outputs": [
    {
     "name": "stdout",
     "output_type": "stream",
     "text": [
      "          train  test\n",
      "Accuracy   0.27  0.27\n",
      "ROC AUC    0.50  0.50\n"
     ]
    },
    {
     "data": {
      "image/png": "[encoded data removed]",
      "text/plain": [
       "<Figure size 720x432 with 1 Axes>"
      ]
     },
     "metadata": {
      "needs_background": "light"
     },
     "output_type": "display_data"
    }
   ],
   "source": [
    "#Model should correctly predict minority class (whether a client left), thus strategy='constant' is used\n",
    "base_model = DummyClassifier(strategy='constant', constant=1, random_state=12345)\n",
    "base_model.fit(X_train, y_train)\n",
    "\n",
    "result = evaluate_model(base_model, X_train, y_train, X_valid, y_valid)\n",
    "\n",
    "acc_baseline = result['test']['Accuracy']\n",
    "roc_auc_baseline = result['test']['ROC AUC']"
   ]
  },
  {
   "cell_type": "markdown",
   "id": "0b9e0d30",
   "metadata": {},
   "source": [
    "Model must score better than ROC_AUC=0.5 to pass the sanity check."
   ]
  },
  {
   "cell_type": "markdown",
   "id": "a7a1b487",
   "metadata": {},
   "source": [
    "## Logistic regression"
   ]
  },
  {
   "cell_type": "code",
   "execution_count": 32,
   "id": "df9efe31",
   "metadata": {},
   "outputs": [
    {
     "name": "stdout",
     "output_type": "stream",
     "text": [
      "          train  test\n",
      "Accuracy   0.81  0.81\n",
      "ROC AUC    0.85  0.86\n"
     ]
    },
    {
     "data": {
      "image/png": "[encoded data removed]",
      "text/plain": [
       "<Figure size 720x432 with 1 Axes>"
      ]
     },
     "metadata": {
      "needs_background": "light"
     },
     "output_type": "display_data"
    }
   ],
   "source": [
    "LR = LogisticRegression(random_state=12345)\n",
    "LR.fit(X_train, y_train)     \n",
    "\n",
    "result = evaluate_model(LR, X_train, y_train, X_valid, y_valid)\n",
    "\n",
    "acc_LR = result['test']['Accuracy']\n",
    "roc_auc_LR = result['test']['ROC AUC']"
   ]
  },
  {
   "cell_type": "markdown",
   "id": "e0c64190",
   "metadata": {},
   "source": [
    "### Class weight correction"
   ]
  },
  {
   "cell_type": "code",
   "execution_count": 33,
   "id": "e6f9f503",
   "metadata": {},
   "outputs": [
    {
     "name": "stdout",
     "output_type": "stream",
     "text": [
      "          train  test\n",
      "Accuracy   0.74  0.77\n",
      "ROC AUC    0.85  0.86\n"
     ]
    },
    {
     "data": {
      "image/png": "[encoded data removed]",
      "text/plain": [
       "<Figure size 720x432 with 1 Axes>"
      ]
     },
     "metadata": {
      "needs_background": "light"
     },
     "output_type": "display_data"
    }
   ],
   "source": [
    "LR_class_weight = LogisticRegression(random_state=12345, class_weight='balanced')\n",
    "LR_class_weight.fit(X_train, y_train)     \n",
    "\n",
    "result = evaluate_model(LR_class_weight, X_train, y_train, X_valid, y_valid)\n",
    "\n",
    "acc_LR_class_weight = result['test']['Accuracy']\n",
    "roc_auc_LR_class_weight = result['test']['ROC AUC']"
   ]
  },
  {
   "cell_type": "markdown",
   "id": "c09c3fa2",
   "metadata": {},
   "source": [
    "### Upsampling"
   ]
  },
  {
   "cell_type": "code",
   "execution_count": 34,
   "id": "e6e55f5d",
   "metadata": {},
   "outputs": [
    {
     "data": {
      "text/plain": [
       "(8095, 22)"
      ]
     },
     "execution_count": 34,
     "metadata": {},
     "output_type": "execute_result"
    }
   ],
   "source": [
    "def upsample(features, target, repeat):\n",
    "    features_zeros = features[target == 0]\n",
    "    features_ones = features[target == 1]\n",
    "    target_zeros = target[target == 0]\n",
    "    target_ones = target[target == 1]\n",
    "\n",
    "    features_upsampled = pd.concat([features_zeros] + [features_ones] * repeat)\n",
    "    target_upsampled = pd.concat([target_zeros] + [target_ones] * repeat)\n",
    "    \n",
    "    features_upsampled, target_upsampled = shuffle(\n",
    "        features_upsampled, target_upsampled, random_state=12345)\n",
    "    \n",
    "    return features_upsampled, target_upsampled\n",
    "\n",
    "X_train_upsampled, y_train_upsampled = upsample(X_train, y_train, 4)\n",
    "\n",
    "X_train_upsampled.shape"
   ]
  },
  {
   "cell_type": "code",
   "execution_count": 35,
   "id": "b7442ba3",
   "metadata": {},
   "outputs": [
    {
     "name": "stdout",
     "output_type": "stream",
     "text": [
      "          train  test\n",
      "Accuracy   0.69  0.81\n",
      "ROC AUC    0.85  0.86\n"
     ]
    },
    {
     "data": {
      "image/png": "[encoded data removed]",
      "text/plain": [
       "<Figure size 720x432 with 1 Axes>"
      ]
     },
     "metadata": {
      "needs_background": "light"
     },
     "output_type": "display_data"
    }
   ],
   "source": [
    "LR_upsample = LogisticRegression(random_state=12345)\n",
    "LR_upsample.fit(X_train, y_train)     \n",
    "\n",
    "result = evaluate_model(LR_upsample, X_train_upsampled, y_train_upsampled, X_valid, y_valid)\n",
    "\n",
    "acc_LR_upsamp = result['test']['Accuracy']\n",
    "roc_auc_LR_upsamp = result['test']['ROC AUC']"
   ]
  },
  {
   "cell_type": "markdown",
   "id": "0b2a725a",
   "metadata": {},
   "source": [
    "## Random Forest"
   ]
  },
  {
   "cell_type": "code",
   "execution_count": 36,
   "id": "96beb87d",
   "metadata": {},
   "outputs": [
    {
     "name": "stdout",
     "output_type": "stream",
     "text": [
      "          train  test\n",
      "Accuracy    1.0  0.80\n",
      "ROC AUC     1.0  0.86\n"
     ]
    },
    {
     "data": {
      "image/png": "[encoded data removed]",
      "text/plain": [
       "<Figure size 720x432 with 1 Axes>"
      ]
     },
     "metadata": {
      "needs_background": "light"
     },
     "output_type": "display_data"
    }
   ],
   "source": [
    "rfc = RandomForestClassifier(random_state=12345)\n",
    "rfc.fit(X_train, y_train)\n",
    "\n",
    "result = evaluate_model(rfc, X_train, y_train, X_valid, y_valid)\n",
    "\n",
    "acc_rfc = result['test']['Accuracy']\n",
    "roc_auc_rfc = result['test']['ROC AUC']"
   ]
  },
  {
   "cell_type": "markdown",
   "id": "22abd850",
   "metadata": {},
   "source": [
    "Model is overfitting, thus we'll tune its hyperparameters."
   ]
  },
  {
   "cell_type": "markdown",
   "id": "e163fbd3",
   "metadata": {},
   "source": [
    "### Tuning"
   ]
  },
  {
   "cell_type": "code",
   "execution_count": 37,
   "id": "eb2b8f85",
   "metadata": {},
   "outputs": [
    {
     "name": "stdout",
     "output_type": "stream",
     "text": [
      "          train  test\n",
      "Accuracy   0.83  0.82\n",
      "ROC AUC    0.90  0.88\n"
     ]
    },
    {
     "data": {
      "image/png": "[encoded data removed]",
      "text/plain": [
       "<Figure size 720x432 with 1 Axes>"
      ]
     },
     "metadata": {
      "needs_background": "light"
     },
     "output_type": "display_data"
    }
   ],
   "source": [
    "params = {\"n_estimators\" : [500, 700],\n",
    "             \"max_depth\" : [6, 7, 8, 9, 10]}\n",
    "\n",
    "gsSVR = GridSearchCV(rfc, param_grid=params, n_jobs=-1, verbose=0, scoring='roc_auc')\n",
    "gsSVR.fit(X_train, y_train)\n",
    "\n",
    "result = evaluate_model(gsSVR, X_train, y_train, X_valid, y_valid)\n",
    "\n",
    "acc_rfc_tuned = result['test']['Accuracy']\n",
    "roc_auc_rfc_tuned = result['test']['ROC AUC']"
   ]
  },
  {
   "cell_type": "code",
   "execution_count": 38,
   "id": "87af8eb2",
   "metadata": {},
   "outputs": [
    {
     "data": {
      "text/html": [
       "<style>#sk-container-id-1 {color: black;background-color: white;}#sk-container-id-1 pre{padding: 0;}#sk-container-id-1 div.sk-toggleable {background-color: white;}#sk-container-id-1 label.sk-toggleable__label {cursor: pointer;display: block;width: 100%;margin-bottom: 0;padding: 0.3em;box-sizing: border-box;text-align: center;}#sk-container-id-1 label.sk-toggleable__label-arrow:before {content: \"▸\";float: left;margin-right: 0.25em;color: #696969;}#sk-container-id-1 label.sk-toggleable__label-arrow:hover:before {color: black;}#sk-container-id-1 div.sk-estimator:hover label.sk-toggleable__label-arrow:before {color: black;}#sk-container-id-1 div.sk-toggleable__content {max-height: 0;max-width: 0;overflow: hidden;text-align: left;background-color: #f0f8ff;}#sk-container-id-1 div.sk-toggleable__content pre {margin: 0.2em;color: black;border-radius: 0.25em;background-color: #f0f8ff;}#sk-container-id-1 input.sk-toggleable__control:checked~div.sk-toggleable__content {max-height: 200px;max-width: 100%;overflow: auto;}#sk-container-id-1 input.sk-toggleable__control:checked~label.sk-toggleable__label-arrow:before {content: \"▾\";}#sk-container-id-1 div.sk-estimator input.sk-toggleable__control:checked~label.sk-toggleable__label {background-color: #d4ebff;}#sk-container-id-1 div.sk-label input.sk-toggleable__control:checked~label.sk-toggleable__label {background-color: #d4ebff;}#sk-container-id-1 input.sk-hidden--visually {border: 0;clip: rect(1px 1px 1px 1px);clip: rect(1px, 1px, 1px, 1px);height: 1px;margin: -1px;overflow: hidden;padding: 0;position: absolute;width: 1px;}#sk-container-id-1 div.sk-estimator {font-family: monospace;background-color: #f0f8ff;border: 1px dotted black;border-radius: 0.25em;box-sizing: border-box;margin-bottom: 0.5em;}#sk-container-id-1 div.sk-estimator:hover {background-color: #d4ebff;}#sk-container-id-1 div.sk-parallel-item::after {content: \"\";width: 100%;border-bottom: 1px solid gray;flex-grow: 1;}#sk-container-id-1 div.sk-label:hover label.sk-toggleable__label {background-color: #d4ebff;}#sk-container-id-1 div.sk-serial::before {content: \"\";position: absolute;border-left: 1px solid gray;box-sizing: border-box;top: 0;bottom: 0;left: 50%;z-index: 0;}#sk-container-id-1 div.sk-serial {display: flex;flex-direction: column;align-items: center;background-color: white;padding-right: 0.2em;padding-left: 0.2em;position: relative;}#sk-container-id-1 div.sk-item {position: relative;z-index: 1;}#sk-container-id-1 div.sk-parallel {display: flex;align-items: stretch;justify-content: center;background-color: white;position: relative;}#sk-container-id-1 div.sk-item::before, #sk-container-id-1 div.sk-parallel-item::before {content: \"\";position: absolute;border-left: 1px solid gray;box-sizing: border-box;top: 0;bottom: 0;left: 50%;z-index: -1;}#sk-container-id-1 div.sk-parallel-item {display: flex;flex-direction: column;z-index: 1;position: relative;background-color: white;}#sk-container-id-1 div.sk-parallel-item:first-child::after {align-self: flex-end;width: 50%;}#sk-container-id-1 div.sk-parallel-item:last-child::after {align-self: flex-start;width: 50%;}#sk-container-id-1 div.sk-parallel-item:only-child::after {width: 0;}#sk-container-id-1 div.sk-dashed-wrapped {border: 1px dashed gray;margin: 0 0.4em 0.5em 0.4em;box-sizing: border-box;padding-bottom: 0.4em;background-color: white;}#sk-container-id-1 div.sk-label label {font-family: monospace;font-weight: bold;display: inline-block;line-height: 1.2em;}#sk-container-id-1 div.sk-label-container {text-align: center;}#sk-container-id-1 div.sk-container {/* jupyter's `normalize.less` sets `[hidden] { display: none; }` but bootstrap.min.css set `[hidden] { display: none !important; }` so we also need the `!important` here to be able to override the default hidden behavior on the sphinx rendered scikit-learn.org. See: https://github.com/scikit-learn/scikit-learn/issues/21755 */display: inline-block !important;position: relative;}#sk-container-id-1 div.sk-text-repr-fallback {display: none;}</style><div id=\"sk-container-id-1\" class=\"sk-top-container\"><div class=\"sk-text-repr-fallback\"><pre>RandomForestClassifier(max_depth=7, n_estimators=700, random_state=12345)</pre><b>In a Jupyter environment, please rerun this cell to show the HTML representation or trust the notebook. <br />On GitHub, the HTML representation is unable to render, please try loading this page with nbviewer.org.</b></div><div class=\"sk-container\" hidden><div class=\"sk-item\"><div class=\"sk-estimator sk-toggleable\"><input class=\"sk-toggleable__control sk-hidden--visually\" id=\"sk-estimator-id-1\" type=\"checkbox\" checked><label for=\"sk-estimator-id-1\" class=\"sk-toggleable__label sk-toggleable__label-arrow\">RandomForestClassifier</label><div class=\"sk-toggleable__content\"><pre>RandomForestClassifier(max_depth=7, n_estimators=700, random_state=12345)</pre></div></div></div></div></div>"
      ],
      "text/plain": [
       "RandomForestClassifier(max_depth=7, n_estimators=700, random_state=12345)"
      ]
     },
     "execution_count": 38,
     "metadata": {},
     "output_type": "execute_result"
    }
   ],
   "source": [
    "SVR_best = gsSVR.best_estimator_\n",
    "SVR_best"
   ]
  },
  {
   "cell_type": "markdown",
   "id": "f059c747",
   "metadata": {},
   "source": [
    "## LGBM"
   ]
  },
  {
   "cell_type": "code",
   "execution_count": 39,
   "id": "d38c60a5",
   "metadata": {},
   "outputs": [
    {
     "name": "stdout",
     "output_type": "stream",
     "text": [
      "          train  test\n",
      "Accuracy   0.93  0.85\n",
      "ROC AUC    0.98  0.91\n"
     ]
    },
    {
     "data": {
      "image/png": "[encoded data removed]",
      "text/plain": [
       "<Figure size 720x432 with 1 Axes>"
      ]
     },
     "metadata": {
      "needs_background": "light"
     },
     "output_type": "display_data"
    }
   ],
   "source": [
    "LGBM = LGBMClassifier(random_state=12345)\n",
    "LGBM.fit(X_train, y_train)\n",
    "\n",
    "result = evaluate_model(LGBM, X_train, y_train, X_valid, y_valid)\n",
    "\n",
    "acc_LGBM = result['test']['Accuracy']\n",
    "roc_auc_LGBM = result['test']['ROC AUC']"
   ]
  },
  {
   "cell_type": "markdown",
   "id": "e9f47a7f",
   "metadata": {},
   "source": [
    "## CatBoost"
   ]
  },
  {
   "cell_type": "code",
   "execution_count": 40,
   "id": "48fc9491",
   "metadata": {},
   "outputs": [
    {
     "name": "stdout",
     "output_type": "stream",
     "text": [
      "          train  test\n",
      "Accuracy   0.91  0.87\n",
      "ROC AUC    0.96  0.92\n"
     ]
    },
    {
     "data": {
      "image/png": "[encoded data removed]",
      "text/plain": [
       "<Figure size 720x432 with 1 Axes>"
      ]
     },
     "metadata": {
      "needs_background": "light"
     },
     "output_type": "display_data"
    }
   ],
   "source": [
    "CB = CatBoostClassifier(random_state=12345, verbose=0)\n",
    "CB.fit(X_train, y_train)\n",
    "\n",
    "result = evaluate_model(CB, X_train, y_train, X_valid, y_valid)\n",
    "\n",
    "acc_cat_boost = result['test']['Accuracy']\n",
    "roc_auc_cat_boost = result['test']['ROC AUC']"
   ]
  },
  {
   "cell_type": "markdown",
   "id": "fd845931",
   "metadata": {},
   "source": [
    "## Model selection"
   ]
  },
  {
   "cell_type": "code",
   "execution_count": 41,
   "id": "56283bad",
   "metadata": {},
   "outputs": [],
   "source": [
    "models = pd.DataFrame({\n",
    "    'Model': ['Baseline', 'LR', 'RFC', 'LR+class_weight', 'LR+upsample', 'RFC_tuned', 'LGBM', 'CatBoost'],\n",
    "    'Accuracy': [acc_baseline, acc_LR, acc_rfc, acc_LR_class_weight, acc_LR_upsamp, acc_rfc_tuned, acc_LGBM, acc_cat_boost],\n",
    "    'ROC_AUC': [roc_auc_baseline, roc_auc_LR, roc_auc_rfc, roc_auc_LR_class_weight, roc_auc_LR_upsamp, roc_auc_rfc_tuned, roc_auc_LGBM, roc_auc_cat_boost]})"
   ]
  },
  {
   "cell_type": "code",
   "execution_count": 42,
   "id": "d6ff28d7",
   "metadata": {
    "scrolled": false
   },
   "outputs": [
    {
     "data": {
      "image/png": "[encoded data removed]",
      "text/plain": [
       "<Figure size 1440x576 with 2 Axes>"
      ]
     },
     "metadata": {
      "needs_background": "light"
     },
     "output_type": "display_data"
    }
   ],
   "source": [
    "fig, axs = plt.subplots(1,2,figsize=(20,8)) \n",
    "fig.suptitle('ML models', fontsize=16)\n",
    "\n",
    "labels = models.sort_values(by='Accuracy')['Model']\n",
    "values = models.sort_values(by='Accuracy')['Accuracy']\n",
    "axs[0].barh(labels, values, color = 'b')\n",
    "axs[0].set_title('Accuracy', fontsize=12)\n",
    "axs[0].set_yticklabels(labels, fontsize=10)\n",
    "for counter, value in enumerate(values):\n",
    "    axs[0].text(value - 0.1, counter, round(value,2), color='white', va='center', fontsize=13, fontweight='bold')\n",
    "\n",
    "labels = models.sort_values(by='ROC_AUC')['Model']\n",
    "values = models.sort_values(by='ROC_AUC')['ROC_AUC']\n",
    "axs[1].barh(labels, values, color = 'c')\n",
    "axs[1].set_title('ROC_AUC', fontsize=12)\n",
    "axs[1].set_yticklabels(labels, fontsize=10)\n",
    "for counter, value in enumerate(values):\n",
    "    axs[1].text(value - 0.1, counter, round(value,2), color='white', va='center', fontsize=13, fontweight='bold');"
   ]
  },
  {
   "cell_type": "markdown",
   "id": "72a74541",
   "metadata": {},
   "source": [
    "CatBoostClassifier resulted in the best scores."
   ]
  },
  {
   "cell_type": "markdown",
   "id": "75896b69",
   "metadata": {},
   "source": [
    "# Chosen model- CatBoostClassifier"
   ]
  },
  {
   "cell_type": "code",
   "execution_count": 43,
   "id": "382ca9a1",
   "metadata": {},
   "outputs": [
    {
     "name": "stdout",
     "output_type": "stream",
     "text": [
      "          train  test\n",
      "Accuracy   0.91  0.86\n",
      "ROC AUC    0.96  0.91\n"
     ]
    },
    {
     "data": {
      "image/png": "[encoded data removed]",
      "text/plain": [
       "<Figure size 720x432 with 1 Axes>"
      ]
     },
     "metadata": {
      "needs_background": "light"
     },
     "output_type": "display_data"
    }
   ],
   "source": [
    "#Retraining model on entire training set and testing on test set\n",
    "X_train, X_test, y_train, y_test = train_test_split(X_OHE, y, test_size = 0.2, stratify=y, random_state=12345)\n",
    "\n",
    "CB = CatBoostClassifier(random_state=12345, verbose=0)\n",
    "CB.fit(X_train, y_train)\n",
    "\n",
    "result = evaluate_model(CB, X_train, y_train, X_test, y_test)"
   ]
  },
  {
   "cell_type": "code",
   "execution_count": 44,
   "id": "6bacaf45",
   "metadata": {},
   "outputs": [
    {
     "data": {
      "text/plain": [
       "-5.81"
      ]
     },
     "execution_count": 44,
     "metadata": {},
     "output_type": "execute_result"
    }
   ],
   "source": [
    "round((0.86 - 0.91)/0.86 * 100, 2)"
   ]
  },
  {
   "cell_type": "markdown",
   "id": "267de0db",
   "metadata": {},
   "source": [
    "Target metric is met. Test score is 5.81% lower than train score."
   ]
  },
  {
   "cell_type": "markdown",
   "id": "fb978953",
   "metadata": {},
   "source": [
    "## Sanity check"
   ]
  },
  {
   "cell_type": "code",
   "execution_count": 45,
   "id": "26afa1f0",
   "metadata": {},
   "outputs": [
    {
     "name": "stdout",
     "output_type": "stream",
     "text": [
      "          train  test\n",
      "Accuracy   0.27  0.27\n",
      "ROC AUC    0.50  0.50\n"
     ]
    },
    {
     "data": {
      "image/png": "[encoded data removed]",
      "text/plain": [
       "<Figure size 720x432 with 1 Axes>"
      ]
     },
     "metadata": {
      "needs_background": "light"
     },
     "output_type": "display_data"
    }
   ],
   "source": [
    "base_model = DummyClassifier(strategy='constant', constant=1, random_state=12345)\n",
    "base_model.fit(X_train, y_train)\n",
    "\n",
    "result = evaluate_model(base_model, X_train, y_train, X_test, y_test)"
   ]
  },
  {
   "cell_type": "code",
   "execution_count": 46,
   "id": "9702a7a3",
   "metadata": {
    "scrolled": true
   },
   "outputs": [
    {
     "data": {
      "text/plain": [
       "45.05"
      ]
     },
     "execution_count": 46,
     "metadata": {},
     "output_type": "execute_result"
    }
   ],
   "source": [
    "round((0.91-0.5)/0.91 * 100, 2)"
   ]
  },
  {
   "cell_type": "markdown",
   "id": "d34946d4",
   "metadata": {},
   "source": [
    "Final CatBoostClassifier test score is 0.91, 45.05% higher than dummy baseline, meaning modeling was useful."
   ]
  },
  {
   "cell_type": "markdown",
   "id": "684b09b6",
   "metadata": {},
   "source": [
    "# Conclusion\n",
    "\n",
    "This project was about developing a binary classification model to predict whether a client will leave the company soon based on the clientele's personal data, including information about their plans and contracts.\n",
    "\n",
    "The ROC_AUC metric on the test set had to be ROC_AUC0≤0.75\n",
    "\n",
    "<ins>We followed the methodology as follows (specified in the work plan):<ins>\n",
    "1. Opening data files.\n",
    "2. Studying general information.\n",
    "3. Preprocessing including merging data frames, binary numeric target, lower case column names, missing values, data type changes, feature engineering and encoding of categorical features.\n",
    "4. Exploratory data analysis.\n",
    "5. Defining evaluation function.\n",
    "6. Splitting into sets.\n",
    "7. Standard scaling.\n",
    "8. Baseline model.\n",
    "9. Modeling.\n",
    "10. Model selection.\n",
    "11. Retaining.\n",
    "12. Testing.\n",
    "13. Sanity check.\n",
    "14. And now, final conclusion.\n",
    "    \n",
    "<ins>Findings:<ins>\n",
    "- The number of current clients is 2.76 times that of those who left.\n",
    "- On average, the probability of a client leaving the company is 26.53%.\n",
    "- Most clients leave within first 5 months of subscription.\n",
    "- Gender doesn't seem to influence churn much.\n",
    "- Clients are more likely to leave when they are subscribed to less added services and pay less per month, maybe due to always searching for cheaper deals.\n",
    "- Newer clients tend to leave more, possibly due to constant moving from one service provider to another.\n",
    "- Single and/or younger clients are usually those who are to unsubscribe, possibly due to not minding the hassle of chasing better bargains.\n",
    "- Clients with the month-to-month contract type probably like keeping all options open and therefore don't generally commit to long-term contracts.\n",
    "    \n",
    "<ins>Results:<ins>  \n",
    "- Test score is 5.81% lower than train score- minor overfitting.\n",
    "- Final CatBoostClassifier test score is 0.91, 45.05% higher than dummy baseline."
   ]
  },
  {
   "cell_type": "markdown",
   "id": "6ee76419",
   "metadata": {},
   "source": [
    "# Solution report\n",
    "\n",
    "<ins>What steps of the plan were performed and what steps were skipped (explain why)?<ins>\n",
    "    \n",
    "    All steps of the plan were performed accordingly and in order.\n",
    "    \n",
    "<ins>What difficulties did you encounter and how did you manage to solve them?<ins>\n",
    "    \n",
    "    I found that structuring the project in advance helped. No major difficulties were encountered. However, looking back, it was time consuming to explore variations for each part of my code before finalizing it. Stack Overflow posts were useful.\n",
    "    \n",
    "<ins>What were some of the key steps to solving the task?<ins>\n",
    "    \n",
    "    1. Preprocessing.\n",
    "    2. Exploratory data analysis.\n",
    "    3. Splitting into sets.\n",
    "    4. Standard scaling.\n",
    "    5. Modeling.\n",
    "    6. Testing.\n",
    "    7. Retaining.\n",
    "    8. Sanity check.\n",
    "    \n",
    "<ins>What is your final model and what quality score does it have?<ins>\n",
    "    \n",
    "    Final model is CatBoostClassifier which resulted in test score of ROC_AUC=0.91 with quality of 6 SP."
   ]
  },
  {
   "cell_type": "code",
   "execution_count": null,
   "id": "0796a0e6",
   "metadata": {},
   "outputs": [],
   "source": []
  }
 ],
 "metadata": {
  "kernelspec": {
   "display_name": "Python 3",
   "language": "python",
   "name": "python3"
  },
  "language_info": {
   "codemirror_mode": {
    "name": "ipython",
    "version": 3
   },
   "file_extension": ".py",
   "mimetype": "text/x-python",
   "name": "python",
   "nbconvert_exporter": "python",
   "pygments_lexer": "ipython3",
   "version": "3.8.8"
  },
  "toc": {
   "base_numbering": 1,
   "nav_menu": {},
   "number_sections": true,
   "sideBar": true,
   "skip_h1_title": false,
   "title_cell": "Table of Contents",
   "title_sidebar": "Contents",
   "toc_cell": true,
   "toc_position": {
    "height": "calc(100% - 180px)",
    "left": "10px",
    "top": "150px",
    "width": "165px"
   },
   "toc_section_display": true,
   "toc_window_display": true
  }
 },
 "nbformat": 4,
 "nbformat_minor": 5
}
